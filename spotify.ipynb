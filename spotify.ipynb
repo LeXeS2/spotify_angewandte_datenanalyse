{
 "cells": [
  {
   "cell_type": "markdown",
   "id": "c5976442",
   "metadata": {},
   "source": []
  },
  {
   "cell_type": "markdown",
   "id": "a21d15cb",
   "metadata": {},
   "source": [
    "# Was beeinflusst die Skip Rate eines Songs?\n",
    "\n",
    "Das gezielte Überspringen von Songs ist ein alltäglicher Bestandteil der Nutzung von Musikstreaming-Plattformen. Dabei wird ein Song manuell weitergeklickt, bevor er vollständig abgespielt wurde. Die sogenannte Skip Rate beschreibt den Anteil der Nutzer*innen, die einen bestimmten Song überspringen.\n",
    "\n",
    "Ziel unserer Untersuchung ist es, besser zu verstehen, welche Merkmale mit der Skip Rate eines Songs in Verbindung stehen. Dazu gehören beispielsweise das Genre, die Popularität des Künstlers oder der Künstlerin, die Plattformnutzung (z. B. Free oder Premium), das Erscheinungsjahr oder die durchschnittliche Hördauer.\n",
    "\n",
    "Als Datengrundlage nutzen wir einen Datensatz mit globalen Streamingzahlen aus dem Jahr 2024, bereitgestellt über die Plattform Kaggle. Der Datensatz enthält unter anderem Informationen zu Künstler*innen, Songs, Genres, Plattformtyp, Streams, Hörer*innenzahlen und Skip Rate.\n",
    "\n",
    "Ziel ist es nicht nur, bestimmte Einflüsse zu identifizieren, sondern auch kritisch zu reflektieren, welche Merkmale im gegebenen Datensatz möglicherweise keine Rolle spielen – und warum."
   ]
  },
  {
   "cell_type": "code",
   "execution_count": null,
   "id": "29eb76b1",
   "metadata": {},
   "outputs": [],
   "source": [
    "import os\n",
    "import pandas as pd\n",
    "import numpy as np\n",
    "import seaborn as sns\n",
    "import matplotlib.pyplot as plt\n",
    "from sklearn.tree import DecisionTreeRegressor\n",
    "from sklearn.model_selection import train_test_split, cross_val_score, KFold, GridSearchCV\n",
    "from sklearn.metrics import mean_squared_error, r2_score, make_scorer\n",
    "from sklearn.decomposition import PCA\n",
    "from sklearn.preprocessing import StandardScaler"
   ]
  },
  {
   "cell_type": "code",
   "execution_count": null,
   "id": "9d2f1e69",
   "metadata": {},
   "outputs": [],
   "source": [
    "data_path = \"data/spotify.csv\"\n",
    "try:\n",
    "    df = pd.read_csv(data_path)\n",
    "except:\n",
    "    # Achtung der Pfad \"../../../_Daten\" muss existieren.\n",
    "    import kagglehub\n",
    "    import shutil\n",
    "    # Download latest version\n",
    "    path = kagglehub.dataset_download(\"atharvasoundankar/spotify-global-streaming-data-2024\")\n",
    "    \n",
    "    # Get the first file in path\n",
    "    files = os.listdir(path)\n",
    "    if len(files) == 0:\n",
    "        raise ValueError(\"No files found in the downloaded dataset.\")\n",
    "    # Check if the data directory exists, if not create it\n",
    "    if not os.path.exists(\"data\"):\n",
    "        os.makedirs(\"data\")\n",
    "\n",
    "    # Move the downloaded file to the desired directory\n",
    "    shutil.move(os.path.join(path, files[0]), data_path)\n",
    "\n",
    "    print(\"Spotifiy dataset downloaded successfully!\")\n",
    "    df = pd.read_csv(data_path)"
   ]
  },
  {
   "cell_type": "markdown",
   "id": "b3a75f40",
   "metadata": {},
   "source": [
    "# 1. Explorative Datenanalyse – Einflussfaktoren auf die Skip Rate\n",
    "\n",
    "Ziel dieses Abschnitts ist es, einen ersten Überblick über die Struktur und Inhalte des Datensatzes zu gewinnen.\n",
    "Die explorative Datenanalyse (EDA) hilft dabei, Auffälligkeiten, Verteilungen, Ausreißer und potenzielle Einflussfaktoren auf die Skip Rate zu erkennen.\n",
    "\n",
    "Die EDA dient außerdem als Grundlage für weitere Analysen, etwa die Hauptkomponentenanalyse (PCA) und eine spätere Modellbildung.\n",
    "Auch wenn sie typischerweise vor der PCA durchgeführt wird, wird sie hier nachträglich eingefügt, da die Arbeit arbeitsteilig erfolgt ist."
   ]
  },
  {
   "cell_type": "markdown",
   "id": "dceb838e",
   "metadata": {},
   "source": [
    "## 1.1 Überblick über den Datensatz\n",
    "\n",
    "Im Folgenden wird ein erster Blick auf den Datensatz geworfen. Dabei interessieren uns insbesondere:\n",
    "- die verfügbaren Spalten,\n",
    "- der generelle Aufbau der Daten (z. B. Anzahl der Zeilen, Datentypen),\n",
    "- sowie ein erster Eindruck der enthaltenen Informationen.\n",
    "\n",
    "Diese erste Sichtung hilft dabei, ein Gefühl dafür zu bekommen, welche Merkmale später für die Analyse der Skip Rate von Bedeutung sein könnten.\n"
   ]
  },
  {
   "cell_type": "code",
   "execution_count": null,
   "id": "2fac78c8",
   "metadata": {},
   "outputs": [],
   "source": [
    "# Überblick über Struktur und Datentypen\n",
    "df.info()"
   ]
  },
  {
   "cell_type": "code",
   "execution_count": null,
   "id": "fa3a97c3",
   "metadata": {},
   "outputs": [],
   "source": [
    "# Vorschau auf die ersten Zeilen im Datensatz\n",
    "df.head()"
   ]
  },
  {
   "cell_type": "code",
   "execution_count": null,
   "id": "1bcf814f",
   "metadata": {},
   "outputs": [],
   "source": [
    "# Alle Spaltennamen anzeigen\n",
    "df.columns.tolist()"
   ]
  },
  {
   "cell_type": "markdown",
   "id": "e9ddd2f6",
   "metadata": {},
   "source": [
    "## 1.2 Deskriptive Analyse der Zielgröße: Skip Rate (%)\n",
    "\n",
    "Zunächst betrachten wir die Verteilung der Zielvariablen `Skip Rate (%)`. Ziel ist es, ein Gefühl für typische Werte, Ausreißer und die Streuung zu bekommen."
   ]
  },
  {
   "cell_type": "code",
   "execution_count": null,
   "id": "971ab4b0",
   "metadata": {},
   "outputs": [],
   "source": [
    "# Deskriptive Statistik\n",
    "skip_stats = df[\"Skip Rate (%)\"].describe(percentiles=[.05, .25, .5, .75, .95])\n",
    "print(skip_stats)\n",
    "\n",
    "# Histogramm\n",
    "plt.figure(figsize=(8, 5))\n",
    "sns.histplot(df[\"Skip Rate (%)\"], bins=20, kde=True)\n",
    "plt.title(\"Verteilung der Skip Rate (%)\")\n",
    "plt.xlabel(\"Skip Rate (%)\")\n",
    "plt.ylabel(\"Häufigkeit\")\n",
    "plt.grid(True)\n",
    "plt.show()\n",
    "\n",
    "# Boxplot\n",
    "plt.figure(figsize=(6, 2))\n",
    "sns.boxplot(x=df[\"Skip Rate (%)\"])\n",
    "plt.title(\"Boxplot der Skip Rate (%)\")\n",
    "plt.xlabel(\"Skip Rate (%)\")\n",
    "plt.grid(True, axis='x')\n",
    "plt.show()"
   ]
  },
  {
   "cell_type": "markdown",
   "id": "8eff50a9",
   "metadata": {},
   "source": [
    "### Beobachtungen zur Verteilung der Skip Rate\n",
    "\n",
    "Die Skip Rate in diesem Datensatz liegt im Durchschnitt bei etwa 20 %, wobei die meisten Songs Werte zwischen 10 % und 30 % aufweisen.\n",
    "Einige Songs stechen jedoch mit sehr niedriger oder sehr hoher Skip Rate hervor. So liegt das untere 5. Perzentil bei lediglich 3.7 %, das obere 5. Perzentil hingegen bei über 37 %.\n",
    "\n",
    "Insgesamt zeigt sich eine relativ gleichmäßige Verteilung ohne starke Schieflage, was darauf hinweist, dass das Überspringverhalten nicht durch eine einzelne Gruppe dominiert wird.\n",
    "Die Werte deuten darauf hin, dass sowohl besonders „skip-resistente“ als auch „skip-anfällige“ Songs existieren, die in weiteren Analysen gezielt betrachtet werden könnten."
   ]
  },
  {
   "cell_type": "markdown",
   "id": "107570b0",
   "metadata": {},
   "source": [
    "## 1.3 Skip Rate nach Musikgenre\n",
    "\n",
    "Da Musikgeschmack stark genreabhängig ist, könnte auch die Skip Rate mit dem Genre eines Songs zusammenhängen.\n",
    "Unterschiedliche Genres sprechen unterschiedliche Zielgruppen an und können sich hinsichtlich Aufbau, Länge und Hörgewohnheiten stark unterscheiden.\n",
    "\n",
    "Im Folgenden wird untersucht, wie hoch die durchschnittliche Skip Rate je Genre ausfällt."
   ]
  },
  {
   "cell_type": "code",
   "execution_count": null,
   "id": "80b8fdb7",
   "metadata": {},
   "outputs": [],
   "source": [
    "# Durchschnittliche Skip Rate pro Genre berechnen\n",
    "genre_means = df.groupby(\"Genre\")[\"Skip Rate (%)\"].mean().sort_values(ascending=False)\n",
    "\n",
    "# Plot erstellen\n",
    "plt.figure(figsize=(10, 8))\n",
    "sns.barplot(\n",
    "    x=genre_means.values,\n",
    "    y=genre_means.index,\n",
    "    hue=genre_means.index,\n",
    "    palette=\"viridis\",\n",
    "    dodge=False,\n",
    "    legend=False\n",
    ")\n",
    "plt.xlabel(\"Durchschnittliche Skip Rate (%)\")\n",
    "plt.ylabel(\"Genre\")\n",
    "plt.title(\"Durchschnittliche Skip Rate nach Musikgenre\")\n",
    "plt.tight_layout()\n",
    "plt.show()"
   ]
  },
  {
   "cell_type": "markdown",
   "id": "5fdae0c4",
   "metadata": {},
   "source": [
    "### Analyse: Durchschnittliche Skip Rate nach Genre\n",
    "\n",
    "Die Analyse zeigt klare Unterschiede in der durchschnittlichen Skip Rate je Musikgenre.\n",
    "Besonders auffällig ist, dass Pop-Songs am häufigsten übersprungen werden, gefolgt von Hip Hop, Rock und EDM.\n",
    "Genres wie Indie, K-pop und klassische Musik weisen dagegen die niedrigsten Skip Rates im Datensatz auf.\n",
    "\n",
    "Ein möglicher Erklärungsansatz ist, dass populäre Genres wie Pop häufiger konsumiert werden und damit einem stärkeren Bewertungskontext unterliegen. Nutzer*innen skippen eher, wenn ihnen der Song nicht sofort gefällt.\n",
    "Weniger massentaugliche Genres wie Indie oder Classical könnten dagegen gezielter ausgewählt und daher seltener übersprungen werden.\n",
    "\n",
    "Diese Beobachtungen legen nahe, dass das Genre tatsächlich ein relevanter Prädiktor für die Skip Rate sein könnte und in weiteren Analysen berücksichtigt werden sollte."
   ]
  },
  {
   "cell_type": "markdown",
   "id": "dc6fae49",
   "metadata": {},
   "source": [
    "## 1.4 Streuung der Skip Rate innerhalb der Genres\n",
    "\n",
    "Nachdem wir bereits die durchschnittliche Skip Rate je Genre betrachtet haben, analysieren wir nun die Verteilung innerhalb der einzelnen Genres.\n",
    "Boxplots zeigen dabei sowohl typische Werte (Median), als auch die Streuung (Interquartilsabstand) und eventuelle Ausreißer.\n",
    "\n",
    "Das hilft einzuschätzen, ob bestimmte Genres besonders stabil (gleichbleibendes Skip-Verhalten) oder besonders uneinheitlich sind."
   ]
  },
  {
   "cell_type": "code",
   "execution_count": null,
   "id": "292f4a55",
   "metadata": {},
   "outputs": [],
   "source": [
    "# Boxplot der Skip Rate pro Genre\n",
    "plt.figure(figsize=(12, 8))\n",
    "sns.boxplot(data=df, x=\"Skip Rate (%)\", y=\"Genre\", palette=\"viridis\")\n",
    "plt.title(\"Verteilung der Skip Rate innerhalb der Genres\")\n",
    "plt.xlabel(\"Skip Rate (%)\")\n",
    "plt.ylabel(\"Genre\")\n",
    "plt.tight_layout()\n",
    "plt.show()"
   ]
  },
  {
   "cell_type": "markdown",
   "id": "d84f7a1f",
   "metadata": {},
   "source": [
    "### Interpretation: Skip Rate – Streuung innerhalb der Genres\n",
    "\n",
    "Die Boxplots zeigen, dass die Skip Rate innerhalb der meisten Genres stark variiert.\n",
    "Für nahezu alle Genres finden sich sowohl Songs mit extrem niedriger als auch sehr hoher Skip Rate. Das legt nahe, dass das Genre zwar ein relevanter Faktor für die Skip Rate im Mittel ist, aber nicht allein entscheidend.\n",
    "\n",
    "Einige Genres wie K-pop und R&B wirken vergleichsweise konsistent, während andere wie Jazz und Classical extrem breit verteilt sind.\n",
    "Hier könnte sich lohnen, zusätzlich andere Einflussfaktoren wie Popularität oder Stream-Dauer einzubeziehen, um diese Unterschiede besser zu erklären."
   ]
  },
  {
   "cell_type": "markdown",
   "id": "9461d6d4",
   "metadata": {},
   "source": [
    "## 1.5 Zusammenhang zwischen Skip Rate und monatlicher Hörerzahl\n",
    "\n",
    "Ein möglicher Einflussfaktor auf die Skip Rate ist die Popularität der Künstler*innen.\n",
    "Es liegt nahe anzunehmen, dass Songs von sehr bekannten Künstler**innen mit vielen monatlichen Hörer*innen seltener übersprungen werden, z. B. weil sie bekannter oder erwarteter sind.\n",
    "\n",
    "Im Folgenden wird dieser Zusammenhang mittels eines Scatterplots dargestellt."
   ]
  },
  {
   "cell_type": "code",
   "execution_count": null,
   "id": "ef351706",
   "metadata": {},
   "outputs": [],
   "source": [
    "# Scatterplot: Skip Rate vs. Monthly Listeners\n",
    "plt.figure(figsize=(8, 6))\n",
    "sns.regplot(\n",
    "    data=df,\n",
    "    x=\"Monthly Listeners (Millions)\",\n",
    "    y=\"Skip Rate (%)\",\n",
    "    scatter_kws={'alpha':0.4, 's':30},\n",
    "    line_kws={'color': 'red'}\n",
    ")\n",
    "plt.title(\"Skip Rate vs. Monthly Listeners (mit Trendlinie)\")\n",
    "plt.xlabel(\"Monatliche Hörer*innen (in Millionen)\")\n",
    "plt.ylabel(\"Skip Rate (%)\")\n",
    "plt.grid(True)\n",
    "plt.tight_layout()\n",
    "plt.show()\n",
    "\n",
    "\n",
    "# Korrelationskoeffizient berechnen\n",
    "corr = df[\"Monthly Listeners (Millions)\"].corr(df[\"Skip Rate (%)\"])\n",
    "print(f\"Korrelation zwischen Skip Rate und Monthly Listeners: {corr:.2f}\")"
   ]
  },
  {
   "cell_type": "markdown",
   "id": "3dcd22f3",
   "metadata": {},
   "source": [
    "### Interpretation: Skip Rate und monatliche Hörer*innen\n",
    "\n",
    "Die Analyse zeigt, dass es keinen erkennbaren Zusammenhang zwischen der Skip Rate eines Songs und der monatlichen Hörerzahl der Künstler*innen gibt.\n",
    "Dies bestätigt auch der Korrelationswert von 0.01 – also praktisch null.\n",
    "\n",
    "Daraus lässt sich schließen, dass die Popularität eines Künstlers kein verlässlicher Prädiktor dafür ist, wie häufig ein Song übersprungen wird.\n",
    "Sowohl sehr beliebte als auch wenig bekannte Künstler*innen können Songs mit hoher oder niedriger Skip Rate haben.\n",
    "Daher sollten für weitere Analysen andere Merkmale wie Genre, Plattform oder Streaming-Verhalten stärker in den Fokus rücken."
   ]
  },
  {
   "cell_type": "markdown",
   "id": "19a5f1ee",
   "metadata": {},
   "source": [
    "## 1.6 Skip Rate in Abhängigkeit vom Erscheinungsjahr\n",
    "\n",
    "Ein weiterer potenzieller Einflussfaktor auf das Überspringverhalten könnte das Erscheinungsjahr eines Songs sein.\n",
    "Es ist denkbar, dass Songs, die vor kurzem veröffentlicht wurden, entweder besonders oft gehört oder auch schneller wieder übersprungen werden, z. B. aufgrund von Trends oder Streaming-Routinen.\n",
    "\n",
    "Im Folgenden wird untersucht, ob es systematische Unterschiede in der durchschnittlichen Skip Rate zwischen verschiedenen Release-Jahren gibt."
   ]
  },
  {
   "cell_type": "code",
   "execution_count": null,
   "id": "cc000278",
   "metadata": {},
   "outputs": [],
   "source": [
    "# Durchschnittliche Skip Rate pro Jahr\n",
    "year_means = df.groupby(\"Release Year\")[\"Skip Rate (%)\"].mean()\n",
    "\n",
    "# Plot\n",
    "plt.figure(figsize=(10, 6))\n",
    "sns.lineplot(x=year_means.index, y=year_means.values, marker=\"o\")\n",
    "plt.title(\"Durchschnittliche Skip Rate pro Erscheinungsjahr\")\n",
    "plt.xlabel(\"Erscheinungsjahr\")\n",
    "plt.ylabel(\"Skip Rate (%)\")\n",
    "plt.grid(True)\n",
    "plt.tight_layout()\n",
    "plt.show()"
   ]
  },
  {
   "cell_type": "markdown",
   "id": "86ff8fc4",
   "metadata": {},
   "source": [
    "### Interpretation: Skip Rate im zeitlichen Verlauf\n",
    "\n",
    "Zwischen 2018 und 2023 zeigt sich ein leichter, aber auffälliger Trend:\n",
    "Die durchschnittliche Skip Rate sinkt zunächst bis zum Jahr 2021 deutlich ab, bevor sie in den Jahren 2022 und 2023 wieder leicht ansteigt.\n",
    "\n",
    "Besonders auffällig ist das Jahr 2021, das mit einer durchschnittlichen Skip Rate von nur ca. 16 % einen deutlichen Ausreißer nach unten darstellt.\n",
    "Mögliche Erklärungsansätze könnten hier externe Einflüsse sein – etwa Pandemie-bedingte Veränderungen im Hörverhalten oder algorithmische Anpassungen bei Streamingdiensten.\n",
    "\n",
    "Insgesamt lässt sich jedoch kein klarer linearer Zusammenhang zwischen Erscheinungsjahr und Skip Rate feststellen.\n",
    "Der Einfluss des Release-Jahres scheint eher moderat zu sein, sollte aber in Kombination mit anderen Merkmalen weiter untersucht werden."
   ]
  },
  {
   "cell_type": "markdown",
   "id": "1d4d56fc",
   "metadata": {},
   "source": [
    "## 1.7 Skip Rate nach Plattformtyp\n",
    "\n",
    "Die Art der genutzten Plattform, etwa ob ein Nutzer oder eine Nutzerin ein kostenloses oder kostenpflichtiges Abo verwendet, kann das Hörverhalten beeinflussen.\n",
    "Nutzer*innen von kostenlosen Versionen hören möglicherweise weniger aufmerksam oder sind stärker zu aktivem Überspringen geneigt (z. B. durch algorithmische Vorschläge oder Werbeunterbrechungen).\n",
    "\n",
    "Im Folgenden wird die durchschnittliche Skip Rate nach Plattformtyp verglichen."
   ]
  },
  {
   "cell_type": "code",
   "execution_count": null,
   "id": "fa2a21da",
   "metadata": {},
   "outputs": [],
   "source": [
    "# Mittelwert der Skip Rate je Plattformtyp berechnen\n",
    "platform_means = df.groupby(\"Platform Type\")[\"Skip Rate (%)\"].mean().sort_values()\n",
    "\n",
    "# Plot\n",
    "plt.figure(figsize=(8, 5))\n",
    "sns.barplot(\n",
    "    x=platform_means.values,\n",
    "    y=platform_means.index,\n",
    "    hue=platform_means.index,\n",
    "    palette=\"viridis\",\n",
    "    dodge=False,\n",
    "    legend=False\n",
    ")\n",
    "plt.xlabel(\"Durchschnittliche Skip Rate (%)\")\n",
    "plt.ylabel(\"Plattformtyp\")\n",
    "plt.title(\"Skip Rate nach Plattformtyp\")\n",
    "plt.tight_layout()\n",
    "plt.show()"
   ]
  },
  {
   "cell_type": "markdown",
   "id": "c5390a62",
   "metadata": {},
   "source": [
    "### Interpretation: Plattformtyp als Einflussfaktor\n",
    "\n",
    "Die Analyse zeigt, dass der Plattformtyp keinen signifikanten Unterschied in der durchschnittlichen Skip Rate aufweist.\n",
    "Beide Gruppen liegen mit einer durchschnittlichen Skip Rate von etwas über 20 % nahezu gleichauf.\n",
    "\n",
    "Das Ergebnis widerlegt die Hypothese, dass Free-Nutzer*innen aufgrund möglicher Werbeunterbrechungen oder weniger gezielter Songauswahl häufiger Songs überspringen.\n",
    "Stattdessen scheint das Überspringverhalten unabhängig vom Abo-Modell zu sein und wird wahrscheinlich stärker von anderen Faktoren wie Genre, Songstruktur oder Algorithmen beeinflusst."
   ]
  },
  {
   "cell_type": "markdown",
   "id": "b05b9c86",
   "metadata": {},
   "source": [
    "## 1.8 Skip Rate in Abhängigkeit von der durchschnittlichen Stream-Dauer\n",
    "\n",
    "Ein möglicher Einflussfaktor auf das Überspringverhalten ist die durchschnittliche Hördauer eines Songs.\n",
    "Die Variable `Avg Stream Duration (Min)` zeigt, wie lange ein Song im Durchschnitt pro Stream gehört wird.\n",
    "\n",
    "In der folgenden Analyse wird untersucht, ob eine Korrelation zwischen der durchschnittlichen Stream-Dauer und der Skip Rate besteht."
   ]
  },
  {
   "cell_type": "code",
   "execution_count": null,
   "id": "e2cf7b19",
   "metadata": {},
   "outputs": [],
   "source": [
    "# Scatterplot: Skip Rate vs. durchschnittliche Hördauer\n",
    "plt.figure(figsize=(8, 6))\n",
    "sns.regplot(\n",
    "    data=df,\n",
    "    x=\"Avg Stream Duration (Min)\",\n",
    "    y=\"Skip Rate (%)\",\n",
    "    scatter_kws={'alpha':0.4, 's':30},\n",
    "    line_kws={'color': 'red'}\n",
    ")\n",
    "plt.title(\"Skip Rate vs. durchschnittliche Stream-Dauer\")\n",
    "plt.xlabel(\"Durchschnittliche Stream-Dauer (Minuten)\")\n",
    "plt.ylabel(\"Skip Rate (%)\")\n",
    "plt.grid(True)\n",
    "plt.tight_layout()\n",
    "plt.show()\n",
    "\n",
    "# Korrelationskoeffizient berechnen\n",
    "corr_duration = df[\"Avg Stream Duration (Min)\"].corr(df[\"Skip Rate (%)\"])\n",
    "print(f\"Korrelation zwischen Skip Rate und Stream-Dauer: {corr_duration:.2f}\")"
   ]
  },
  {
   "cell_type": "markdown",
   "id": "51a66233",
   "metadata": {},
   "source": [
    "### Interpretation: Einfluss der durchschnittlichen Stream-Dauer auf die Skip Rate\n",
    "\n",
    "Die Analyse zeigt, dass zwischen der durchschnittlichen Hördauer eines Songs und dessen Skip Rate kein nennenswerter Zusammenhang besteht.\n",
    "Der Korrelationswert von –0.02 bestätigt, dass sich die beiden Variablen praktisch unabhängig voneinander verhalten.\n",
    "\n",
    "Das widerspricht eventuell der intuitiven Annahme, dass kürzer gestreamte Songs auch häufiger übersprungen werden.\n",
    "Tatsächlich scheint die Länge eines durchschnittlichen Streams nicht aussagekräftig dafür zu sein, wie häufig ein Song geskippt wird."
   ]
  },
  {
   "cell_type": "markdown",
   "id": "db4c21b2",
   "metadata": {},
   "source": [
    "## 1.9 Fazit der explorativen Datenanalyse\n",
    "\n",
    "Im Rahmen dieser explorativen Datenanalyse wurde untersucht, welche Faktoren potenziell mit der Skip Rate von Songs auf Streaming-Plattformen zusammenhängen.\n",
    "Ziel war es, auf Basis des Datensatzes \"Spotify Global Streaming Data 2024\" Hypothesen zu formulieren und erste Zusammenhänge sichtbar zu machen.\n",
    "\n",
    "Die wichtigsten Erkenntnisse im Überblick:\n",
    "\n",
    "- **Genre**: Der deutlichste Einflussfaktor. Es zeigten sich klare Unterschiede in der durchschnittlichen Skip Rate zwischen verschiedenen Musikrichtungen. Pop-Songs wiesen die höchste durchschnittliche Skip Rate auf, während z. B. Indie, K-pop und klassische Musik eher seltener übersprungen wurden. Auch die Streuung innerhalb der Genres war teils sehr unterschiedlich.\n",
    "\n",
    "- **Plattformtyp (Free vs. Premium)**: Es konnte kein relevanter Unterschied in der durchschnittlichen Skip Rate festgestellt werden. Das Überspringverhalten scheint unabhängig vom Abo-Modell zu sein.\n",
    "\n",
    "- **Beliebtheit (Monthly Listeners)**: Der Korrelationswert von nur 0.01 deutet auf keinen Zusammenhang zwischen der Popularität eines Künstlers und der Skip Rate seiner Songs hin.\n",
    "\n",
    "- **Erscheinungsjahr**: Ein leichter Trend mit einem auffälligen Rückgang der Skip Rate im Jahr 2021 war erkennbar, jedoch ohne klaren linearen Zusammenhang. Aufgrund der begrenzten Jahrgangsbreite im Datensatz ist diese Analyse nur eingeschränkt aussagekräftig.\n",
    "\n",
    "- **Durchschnittliche Stream-Dauer**: Auch hier zeigte sich kein relevanter Zusammenhang. Die Skip Rate war weitgehend unabhängig davon, wie lange ein Song im Schnitt pro Stream gehört wurde.\n",
    "\n",
    "### Zusammenfassung:\n",
    "\n",
    "Die explorative Datenanalyse zeigt, dass insbesondere das Genre eines Songs ein zentraler Prädiktor für das Überspringverhalten sein kann. Andere Merkmale wie Beliebtheit, Plattform oder Hördauer haben dagegen keinen erkennbaren Einfluss im gegebenen Datensatz."
   ]
  },
  {
   "cell_type": "markdown",
   "id": "2914af34",
   "metadata": {},
   "source": [
    "# 3.1 Hauptkomponenten Analyse\n",
    "Die Hauptkomponentenanalyse (PCA) ist ein Verfahren zur Dimensionsreduktion, das darauf abzielt, die wesentlichen Strukturen in hochdimensionalen Datensätzen zu erkennen. Sie transformiert die ursprünglichen Variablen in eine neue Menge unkorrelierter Variablen, die sogenannten Hauptkomponenten. Diese Hauptkomponenten sind so konstruiert, dass die erste Komponente die größte mögliche Varianz der Daten erklärt, die zweite die nächstgrößte und so weiter. Die Transformation erfolgt durch eine lineare Kombination der Ausgangsvariablen, wobei die Gewichte (Ladungen) die Bedeutung der einzelnen Variablen für die jeweilige Komponente angeben. \n",
    "\n",
    "PCA ermöglicht es, Muster und Zusammenhänge in den Daten zu erkennen, die mit bloßem Auge schwer zu identifizieren wären. Die Interpretation der Hauptkomponenten erfolgt über die Ladungen: Hohe positive oder negative Werte zeigen, welche Variablen besonders stark zur jeweiligen Komponente beitragen. Durch die Reduktion auf wenige Hauptkomponenten kann man die Komplexität der Daten verringern und gleichzeitig einen Großteil der Information bewahren."
   ]
  },
  {
   "cell_type": "markdown",
   "id": "16f49287",
   "metadata": {},
   "source": [
    "Zunächst werden die kategorialen Variablen des Datensatzes mit einem One-Hot-Encoding umgeformt."
   ]
  },
  {
   "cell_type": "code",
   "execution_count": null,
   "id": "58a9496c",
   "metadata": {},
   "outputs": [],
   "source": [
    "# Teilung der Test Daten zur Vorhersage der Skip Rate (%) mit Kodierung kategorialer Variablen\n",
    "# Kategoriale Variablen werden automatisch per One-Hot-Encoding kodiert.\n",
    "# Feature- und Zielspalten\n",
    "feature_cols = [\n",
    "    'Country', \n",
    "    'Artist', \n",
    "    'Album', \n",
    "    'Genre', \n",
    "    'Release Year',\n",
    "    'Monthly Listeners (Millions)', \n",
    "    'Total Streams (Millions)',\n",
    "    'Total Hours Streamed (Millions)', \n",
    "    'Avg Stream Duration (Min)',\n",
    "    'Streams Last 30 Days (Millions)'\n",
    "]\n",
    "\n",
    "target_col = 'Skip Rate (%)'\n",
    "\n",
    "# Filtere und bereite die Daten vor\n",
    "df_reg = df[feature_cols + [target_col]].dropna()\n",
    "X = df_reg[feature_cols]\n",
    "y = df_reg[target_col]\n",
    "\n",
    "# Kategoriale Variablen kodieren mit One-Hot-Encoding\n",
    "X_encoded = pd.get_dummies(X, drop_first=True)"
   ]
  },
  {
   "cell_type": "markdown",
   "id": "f82f6e7a",
   "metadata": {},
   "source": [
    "Bevor eine Hauptkomponentenanalyse durchgeführt wird, werden alle Variablen Standertisiert um Vergleichbarkeit zwischen den Variablen herzustellen."
   ]
  },
  {
   "cell_type": "code",
   "execution_count": null,
   "id": "f792ad76",
   "metadata": {},
   "outputs": [],
   "source": [
    "# Hauptkomponentenanalyse (PCA) auf den kodierten Features\n",
    "# Die Features werden vor der PCA standardisiert.\n",
    "scaler = StandardScaler()\n",
    "X_scaled = scaler.fit_transform(X_encoded)\n"
   ]
  },
  {
   "cell_type": "markdown",
   "id": "15433487",
   "metadata": {},
   "source": [
    "Zur Selektion der Hauptkomponenten suchen wir zunächst, wie viele Komponenten es brauch um 90% der Varianz der Daten zu erklären. \n",
    "Die gefundenen Komponenten stellen wir nun mit ihrem Eigenwert in einem Scree-Plot dar. An diesem kann ein signifikanter Sprung identifiziert werden, um zu Entscheiden ab welchen Komponentenanzahl der Cutoff gewählt wird.\n",
    "Visuell auffällig sind die Sprunge zur Zweiten, Zwölften und Dreizehnten Komponente. Alle Komponente zwischen von dem Ersten bis zur 13. haben einen Eigenwert größer als eins und genügen damit dem Kaiser-Kriterium. \n",
    "Da eine weitere Analyse mit nur einem Kriterium reduntant wäre, wird sich für den nächsten signifikanten Knick an der Komponente zwölf entschieden. "
   ]
  },
  {
   "cell_type": "code",
   "execution_count": null,
   "id": "a04aa268",
   "metadata": {},
   "outputs": [],
   "source": [
    "# Führe PCA durch, sodass mindestens 90% der Varianz erklärt werden\n",
    "pca = PCA(n_components=0.9, svd_solver='full')\n",
    "X_pca = pca.fit_transform(X_scaled)\n",
    "\n",
    "# Scree-Plot: Eigenwerte der Hauptkomponenten\n",
    "plt.figure(figsize=(8,4))\n",
    "plt.plot(range(1, len(pca.explained_variance_)+1), pca.explained_variance_, marker='o')\n",
    "plt.axhline(1, color='red', linestyle='--', label='Grenze = 1')\n",
    "plt.xlabel('Hauptkomponente')\n",
    "plt.ylabel('Eigenwert')\n",
    "plt.title('Scree-Plot der Hauptkomponenten (PCA)')\n",
    "plt.legend()\n",
    "plt.tight_layout()\n",
    "plt.show()\n"
   ]
  },
  {
   "cell_type": "markdown",
   "id": "b4076723",
   "metadata": {},
   "source": [
    "Die zwölf selektieren Komponeten erkären gemeinsam 45,66% der Varianz der Daten "
   ]
  },
  {
   "cell_type": "code",
   "execution_count": null,
   "id": "a9513910",
   "metadata": {},
   "outputs": [],
   "source": [
    "pca = PCA(n_components=12, svd_solver='full')\n",
    "X_pca = pca.fit_transform(X_scaled)\n",
    "\n",
    "print(f\"Erklärte Varianz: {np.sum(pca.explained_variance_ratio_)*100:.2f}%\")\n"
   ]
  },
  {
   "cell_type": "markdown",
   "id": "51fb60a9",
   "metadata": {},
   "source": [
    "Nun stellen wir die Ladungen der Variablen auf den Komponenten dar. Dazu wird eine Varimax transformation genutzt um starke Ladungen hervorzuheben und schwache Ladungen zu unterdrücken. \n",
    "An der Resultierenden Übersicht ist auffällig das jede Komponente von einem Album und ihrem jeweilgen Künstler*innen dominiert wird. \n",
    "Die allgemeinerien Variablen, wie das Erscheinungsjahr oder die Monatlichen Höhrer laden tendenziel auf alle Komponenten gleichermaßen. \n",
    "An der Darstellung ist zu beachten, dass alle Werte die unter den Wert von 0,2 fallen ausgeblendet wurden und die Tabelle lesbar zu gestalten. "
   ]
  },
  {
   "cell_type": "code",
   "execution_count": null,
   "id": "01db8999",
   "metadata": {},
   "outputs": [],
   "source": [
    "# Rotierte Komponentenmatrix (Varimax-Rotation)\n",
    "from factor_analyzer.rotator import Rotator\n",
    "\n",
    "# Varimax-Rotation auf die PCA-Komponentenmatrix anwenden\n",
    "rotator = Rotator(method='varimax')\n",
    "rotated_components = rotator.fit_transform(pca.components_.T).T\n",
    "\n",
    "# Rotierte Komponentenmatrix als DataFrame anzeigen\n",
    "rotated_df = pd.DataFrame(rotated_components, columns=X_encoded.columns, index=[f'PC{i+1}' for i in range(pca.n_components_)]).T\n",
    "\n",
    "# Für jede Variable: Komponente mit höchster Ladung (nach Betrag) bestimmen\n",
    "max_comp = rotated_df.abs().idxmax(axis=1)\n",
    "max_val = rotated_df.abs().max(axis=1)\n",
    "comp_num = max_comp.str.extract(r'(\\d+)').astype(int)[0]\n",
    "\n",
    "# Sortierindex erstellen: erst nach Komponente, dann nach Höhe der Ladung (absteigend)\n",
    "sort_idx = pd.DataFrame({'comp': comp_num, 'val': max_val})\n",
    "sort_idx = sort_idx.sort_values(['comp', 'val'], ascending=[True, False]).index\n",
    "rotated_df_sorted = rotated_df.loc[sort_idx]\n",
    "\n",
    "# Werte < 0.08 ausblenden\n",
    "rotated_df_masked = rotated_df_sorted.map(lambda x: x if abs(x) >= 0.2 else \"\")\n",
    "\n",
    "# Trick um das gesamte DataFrame anzuzeigen\n",
    "pd.set_option('display.max_rows', None)\n",
    "pd.set_option('display.max_columns', None)\n",
    "display(rotated_df_masked)\n",
    "pd.reset_option('display.max_rows')\n",
    "pd.reset_option('display.max_columns')"
   ]
  },
  {
   "cell_type": "markdown",
   "id": "ffcfb88d",
   "metadata": {},
   "source": [
    "# 3.2 Entscheidungsbaum\n",
    "Als Alternative Methode zur multiplen linearen Regression, welche die Skip Rate beeinflusst, wird ein Regressionsentscheidungsbaum trainiert.\n",
    "Ein Regressionsentscheidungsbaum ist ein Modell aus dem Bereich des maschinellen Lernens, das zur Vorhersage kontinuierlicher Zielgrößen eingesetzt wird. Der Baum besteht aus Knoten, an denen die Daten anhand von Entscheidungsregeln (z.B. Schwellenwerten einzelner Variablen) in Teilmengen aufgeteilt werden. Jeder Endknoten (Blatt) des Baums gibt eine Vorhersage für die Zielgröße ab, typischerweise den Mittelwert der Zielwerte in diesem Blatt. Die Aufteilung erfolgt so, dass die Homogenität innerhalb der Blätter maximiert wird, d.h. die Varianz der Zielgröße innerhalb eines Blatts möglichst gering ist.\n",
    "\n",
    "Entscheidungsbäume sind leicht interpretierbar, da sie explizite Entscheidungsregeln liefern, die nachvollziehbar sind. Sie ermöglichen es, die wichtigsten Einflussvariablen auf die Zielgröße zu identifizieren, indem man die Struktur des Baums und die verwendeten Splits analysiert. Allerdings neigen Entscheidungsbäume dazu, auf kleine Datensätze zu überfitten, weshalb oft Methoden wie Kreuzvalidierung oder Ensemble-Methoden (z.B. Random Forests) eingesetzt werden, um die Generalisierbarkeit zu verbessern. Die Interpretation eines Entscheidungsbaums erfolgt über die Analyse der Splits und der Feature-Importances, die angeben, welche Variablen am häufigsten und mit dem größten Einfluss für die Aufteilung der Daten verwendet wurden."
   ]
  },
  {
   "cell_type": "markdown",
   "id": "a53268d2",
   "metadata": {},
   "source": [
    "Hierzu teilen wir den Datensatz in 20% Testdaten und 80% Trainingsdaten."
   ]
  },
  {
   "cell_type": "code",
   "execution_count": null,
   "id": "552ae240",
   "metadata": {},
   "outputs": [],
   "source": [
    "# Splitte die Daten in Trainings- und Testdaten\n",
    "X_train, X_test, y_train, y_test = train_test_split(X_encoded, y, test_size=0.2, random_state=42)"
   ]
  },
  {
   "cell_type": "markdown",
   "id": "4a0aa2f0",
   "metadata": {},
   "source": [
    "Da die optimalen Parameter für das Training eines Entscheidungsbaums mit den gegeben Daten unbekannt ist, wird mit einer Gridsuche systematisch Parameter ausprobiert. Es werden jene Parameter ausgewählt, welche in dem größten Wert des Bestimmtheitsmaßes, R², resultieren."
   ]
  },
  {
   "cell_type": "code",
   "execution_count": null,
   "id": "fb1022b7",
   "metadata": {},
   "outputs": [],
   "source": [
    "# Grid Search zur Optimierung der Entscheidungsbaum-Parameter\n",
    "param_grid = {\n",
    "    'max_depth': [4, 6, 8, 12, None],\n",
    "    'min_impurity_decrease': [0.0, 0.01, 0.1, 0.5],\n",
    "    'min_samples_split': [2, 5, 10, 20]\n",
    "}\n",
    "\n",
    "grid_search = GridSearchCV(\n",
    "    DecisionTreeRegressor(random_state=42),\n",
    "    param_grid,\n",
    "    cv=5,\n",
    "    scoring='r2',\n",
    "    n_jobs=-1\n",
    ")\n",
    "grid_search.fit(X_train, y_train)\n",
    "\n",
    "print(\"Beste Parameterkombination:\")\n",
    "print(grid_search.best_params_)\n",
    "print(f\"Bester mittlerer R²-Score: {grid_search.best_score_:.3f}\")\n",
    "\n",
    "# Optional: Ergebnisse als DataFrame anzeigen\n",
    "# results_df = pd.DataFrame(grid_search.cv_results_)\n",
    "# display(results_df[['params', 'mean_test_score', 'std_test_score']].sort_values('mean_test_score', ascending=False).head(10))"
   ]
  },
  {
   "cell_type": "markdown",
   "id": "3b7f9843",
   "metadata": {},
   "source": [
    "Mit den nun bestimmten Parametern wird ein Modell trainiert, welches für weitere Berechnungen verwendet wird."
   ]
  },
  {
   "cell_type": "code",
   "execution_count": null,
   "id": "a782894e",
   "metadata": {},
   "outputs": [],
   "source": [
    "\n",
    "# Trainiere den Regressionsbaum\n",
    "reg_tree = DecisionTreeRegressor(**grid_search.best_params_, random_state=42)\n",
    "reg_tree.fit(X_train, y_train)"
   ]
  },
  {
   "cell_type": "markdown",
   "id": "0ef6abd3",
   "metadata": {},
   "source": [
    "Um ein Overfitting des Modells zu kontrollieren wird eine Kreuzvalidierung über 5 Holdouts berechnet. Das Ergebnis weißt eine akzeptierbare Streuung auf in an betracht der geringen Datenmenge."
   ]
  },
  {
   "cell_type": "code",
   "execution_count": null,
   "id": "909e4685",
   "metadata": {},
   "outputs": [],
   "source": [
    "# Cross-Validierung für den Regressionsentscheidungsbaum\n",
    "splits = 5\n",
    "cv = KFold(n_splits=splits, shuffle=True, random_state=42)\n",
    "\n",
    "# R²-Scores\n",
    "r2_scores = cross_val_score(reg_tree, X_encoded, y, cv=cv, scoring='r2')\n",
    "print(f\"Mittlerer R²-Score ({splits}-fold CV): {np.mean(r2_scores):.3f} ± {np.std(r2_scores):.3f}\")\n",
    "\n",
    "# MSE-Scores (negativ, daher Vorzeichen umdrehen)\n",
    "mse_scores = cross_val_score(reg_tree, X_encoded, y, cv=cv, scoring=make_scorer(mean_squared_error, greater_is_better=False))\n",
    "print(f\"Mittlerer MSE ({splits}-fold CV): {(-np.mean(mse_scores)):.3f} ± {np.std(mse_scores):.3f}\")"
   ]
  },
  {
   "cell_type": "markdown",
   "id": "c1f3c74b",
   "metadata": {},
   "source": [
    "Final wird ein Regressionsbaum trainiert dessen Bestimmtheitsmaß negativ ist. Dies lässt darauf schließen, dass die Model schlechter auf die Daten passt als eine vaagerechte Line. Abschließend ist daher zu folgern, dass eine Vorhersage der Skip Rate mittels eines Regressionentscheidungsbaum nicht möglich ist. "
   ]
  },
  {
   "cell_type": "code",
   "execution_count": null,
   "id": "e73e844e",
   "metadata": {},
   "outputs": [],
   "source": [
    "# Vorhersage und Bewertung\n",
    "y_pred = reg_tree.predict(X_test)\n",
    "mse = mean_squared_error(y_test, y_pred)\n",
    "r2 = r2_score(y_test, y_pred)\n",
    "print(f\"MSE: {mse:.3f}, R²: {r2:.3f}\")\n"
   ]
  },
  {
   "cell_type": "markdown",
   "id": "7bb52878",
   "metadata": {},
   "source": [
    "# Anhang\n",
    "Im Folgeden sind die Darstellungen der Wichtigkeiten der Variablen innerhalb des Entscheidungsbaums dargestellt. Zu erst werden die Wichtigkeit aller Variablen dargestellt. Darauf Folgenden werden Wichtigkiet der kategorialen Variablen gruppiert dargestellt. "
   ]
  },
  {
   "cell_type": "code",
   "execution_count": null,
   "id": "b7bc332d",
   "metadata": {},
   "outputs": [],
   "source": [
    "# Feature-Importances anzeigen\n",
    "importances = reg_tree.feature_importances_\n",
    "indices = np.argsort(importances)[::-1]\n",
    "plt.figure(figsize=(12,5))\n",
    "plt.title(\"Feature Importances (Top 15)\")\n",
    "# Zeige nur die wichtigsten 15 Features an\n",
    "top_n = 15\n",
    "plt.bar(range(top_n), importances[indices][:top_n], align=\"center\")\n",
    "plt.xticks(range(top_n), [X_encoded.columns[i] for i in indices[:top_n]], rotation=45, ha='right')\n",
    "plt.tight_layout()\n",
    "plt.show()"
   ]
  },
  {
   "cell_type": "code",
   "execution_count": null,
   "id": "9b91dbd2",
   "metadata": {},
   "outputs": [],
   "source": [
    "from collections import defaultdict\n",
    "\n",
    "# Feature-Importances gruppiert nach Ursprungsvariablen anzeigen\n",
    "importances = reg_tree.feature_importances_\n",
    "feature_names = X_encoded.columns\n",
    "\n",
    "# Ursprungsvariablen bestimmen\n",
    "orig_vars = feature_cols\n",
    "\n",
    "# Initialisiert ein Dictionary mit Listen für jede Ursprungsvariable\n",
    "var_to_cols = defaultdict(list)\n",
    "for col in feature_names:\n",
    "    found = False\n",
    "    for var in orig_vars:\n",
    "        if col == var or col.startswith(var + '_'):\n",
    "            var_to_cols[var].append(col)\n",
    "            found = True\n",
    "            break\n",
    "    if not found:\n",
    "        var_to_cols[col].append(col)  # falls neue Spalten auftauchen\n",
    "\n",
    "# Importance pro Ursprungsvariable aufsummieren\n",
    "summed_importances = {var: importances[[feature_names.get_loc(c) for c in cols]].sum() for var, cols in var_to_cols.items()}\n",
    "# Sortieren\n",
    "sorted_vars = sorted(summed_importances, key=summed_importances.get, reverse=True)\n",
    "\n",
    "plt.figure(figsize=(10,5))\n",
    "plt.title(\"Feature Importances (gruppiert nach Ursprungsvariablen)\")\n",
    "plt.bar(range(len(sorted_vars)), [summed_importances[v] for v in sorted_vars], align=\"center\")\n",
    "plt.xticks(range(len(sorted_vars)), sorted_vars, rotation=45, ha='right')\n",
    "plt.tight_layout()\n",
    "plt.show()"
   ]
  }
 ],
 "metadata": {
  "kernelspec": {
   "display_name": ".venv",
   "language": "python",
   "name": "python3"
  },
  "language_info": {
   "codemirror_mode": {
    "name": "ipython",
    "version": 3
   },
   "file_extension": ".py",
   "mimetype": "text/x-python",
   "name": "python",
   "nbconvert_exporter": "python",
   "pygments_lexer": "ipython3",
   "version": "3.10.11"
  }
 },
 "nbformat": 4,
 "nbformat_minor": 5
}
