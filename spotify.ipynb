{
 "cells": [
  {
   "cell_type": "markdown",
   "id": "a21d15cb",
   "metadata": {},
   "source": [
    "# Was beeinflusst die Skip Rate eines Songs?\n",
    "\n",
    "Das gezielte Überspringen von Songs ist ein alltäglicher Bestandteil der Nutzung von Musikstreaming-Plattformen. Dabei wird ein Song manuell weitergeklickt, bevor er vollständig abgespielt wurde. Die sogenannte Skip Rate beschreibt den Anteil der Nutzer*innen, die einen bestimmten Song überspringen.\n",
    "\n",
    "Ziel unserer Untersuchung ist es, besser zu verstehen, welche Merkmale mit der Skip Rate eines Songs in Verbindung stehen. Dazu gehören beispielsweise das Genre, die Popularität des Künstlers oder der Künstlerin, die Plattformnutzung (z. B. Free oder Premium), das Erscheinungsjahr oder die durchschnittliche Hördauer.\n",
    "\n",
    "Als Datengrundlage nutzen wir einen Datensatz mit globalen Streamingzahlen aus dem Jahr 2024 von Spotifiy ([3]), bereitgestellt über die Plattform Kaggle. Der Datensatz enthält unter anderem Informationen zu Künstler*innen, Songs, Genres, Plattformtyp, Streams, Hörer*innenzahlen und Skip Rate.\n",
    "\n",
    "Ziel ist es nicht nur, bestimmte Einflüsse zu identifizieren, sondern auch kritisch zu reflektieren, welche Merkmale im gegebenen Datensatz möglicherweise keine Rolle spielen und warum."
   ]
  },
  {
   "cell_type": "code",
   "execution_count": null,
   "id": "29eb76b1",
   "metadata": {},
   "outputs": [],
   "source": [
    "import os\n",
    "import pandas as pd\n",
    "import numpy as np\n",
    "import seaborn as sns\n",
    "from sklearn.tree import DecisionTreeRegressor\n",
    "from sklearn.model_selection import train_test_split, cross_val_score, KFold, GridSearchCV\n",
    "from sklearn.metrics import mean_squared_error, r2_score, make_scorer\n",
    "import matplotlib.pyplot as plt\n",
    "from sklearn.decomposition import PCA\n",
    "from sklearn.preprocessing import StandardScaler\n",
    "from sklearn.linear_model import LinearRegression\n",
    "import statsmodels.api as sm\n",
    "from factor_analyzer.rotator import Rotator"
   ]
  },
  {
   "cell_type": "code",
   "execution_count": null,
   "id": "9d2f1e69",
   "metadata": {},
   "outputs": [],
   "source": [
    "data_path = \"data/spotify.csv\"\n",
    "try:\n",
    "    df = pd.read_csv(data_path)\n",
    "except:\n",
    "    # Achtung der Pfad \"../../../_Daten\" muss existieren.\n",
    "    import kagglehub\n",
    "    import shutil\n",
    "    # Download latest version\n",
    "    path = kagglehub.dataset_download(\"atharvasoundankar/spotify-global-streaming-data-2024\")\n",
    "    \n",
    "    # Get the first file in path\n",
    "    files = os.listdir(path)\n",
    "    if len(files) == 0:\n",
    "        raise ValueError(\"No files found in the downloaded dataset.\")\n",
    "    # Check if the data directory exists, if not create it\n",
    "    if not os.path.exists(\"data\"):\n",
    "        os.makedirs(\"data\")\n",
    "\n",
    "    # Move the downloaded file to the desired directory\n",
    "    shutil.move(os.path.join(path, files[0]), data_path)\n",
    "\n",
    "    print(\"Spotifiy dataset downloaded successfully!\")\n",
    "    df = pd.read_csv(data_path)"
   ]
  },
  {
   "cell_type": "markdown",
   "id": "b3a75f40",
   "metadata": {},
   "source": [
    "# 1. Explorative Datenanalyse\n",
    "\n",
    "Die explorative Datenanalyse (EDA) dient dazu, einen strukturierten ersten Überblick über einen Datensatz zu gewinnen. Ziel ist es, die Verteilung der Merkmale, potenzielle Ausreißer, Zusammenhänge zwischen Variablen sowie mögliche Datenprobleme zu identifizieren, bevor weiterführende Analysen durchgeführt werden. ([1])\n",
    "\n",
    "In diesem Zusammenhang wird die EDA verwendet, um zentrale Eigenschaften des Spotify-Datensatzes zu untersuchen. Dabei liegt der Fokus insbesondere auf Merkmalen, die potenziell mit der Skip Rate von Songs in Verbindung stehen könnten, etwa Genre, Künstler, Streaming-Plattform oder Hördauer. Zur Anwendung kommen unter anderem deskriptive Statistiken sowie visuelle Verfahren wie Histogramme, Boxplots und Streudiagramme, um Muster in den Daten sichtbar zu machen."
   ]
  },
  {
   "cell_type": "markdown",
   "id": "dceb838e",
   "metadata": {},
   "source": [
    "## 1.1 Überblick über den Datensatz\n",
    "\n",
    "Im Folgenden wird ein erster Blick auf den Datensatz geworfen. Dabei interessieren uns insbesondere:\n",
    "- die verfügbaren Spalten,\n",
    "- der generelle Aufbau der Daten (z. B. Anzahl der Zeilen, Datentypen),\n",
    "- sowie ein erster Eindruck der enthaltenen Informationen.\n",
    "\n",
    "Diese erste Sichtung hilft dabei, ein Gefühl dafür zu bekommen, welche Merkmale später für die Analyse der Skip Rate von Bedeutung sein könnten.\n"
   ]
  },
  {
   "cell_type": "code",
   "execution_count": null,
   "id": "2fac78c8",
   "metadata": {},
   "outputs": [],
   "source": [
    "# Überblick über Struktur und Datentypen\n",
    "df.info()"
   ]
  },
  {
   "cell_type": "code",
   "execution_count": null,
   "id": "fa3a97c3",
   "metadata": {},
   "outputs": [],
   "source": [
    "# Vorschau auf die ersten Zeilen im Datensatz\n",
    "df.head()"
   ]
  },
  {
   "cell_type": "code",
   "execution_count": null,
   "id": "1bcf814f",
   "metadata": {},
   "outputs": [],
   "source": [
    "# Alle Spaltennamen anzeigen\n",
    "df.columns.tolist()"
   ]
  },
  {
   "cell_type": "markdown",
   "id": "e9ddd2f6",
   "metadata": {},
   "source": [
    "## 1.2 Deskriptive Analyse der Zielgröße: Skip Rate (%)\n",
    "\n",
    "Zunächst wird die Verteilung der Zielvariablen `Skip Rate (%)` betrachtet. Ziel ist es, ein Gefühl für typische Werte, Ausreißer und die Streuung zu bekommen."
   ]
  },
  {
   "cell_type": "code",
   "execution_count": null,
   "id": "971ab4b0",
   "metadata": {},
   "outputs": [],
   "source": [
    "# Deskriptive Statistik\n",
    "skip_stats = df[\"Skip Rate (%)\"].describe(percentiles=[.05, .25, .5, .75, .95])\n",
    "print(skip_stats)\n",
    "\n",
    "# Histogramm\n",
    "plt.figure(figsize=(8, 5))\n",
    "sns.histplot(df[\"Skip Rate (%)\"], bins=20, kde=True)\n",
    "plt.title(\"Verteilung der Skip Rate (%)\")\n",
    "plt.xlabel(\"Skip Rate (%)\")\n",
    "plt.ylabel(\"Häufigkeit\")\n",
    "plt.grid(True)\n",
    "plt.show()\n",
    "\n",
    "# Boxplot\n",
    "plt.figure(figsize=(6, 2))\n",
    "sns.boxplot(x=df[\"Skip Rate (%)\"])\n",
    "plt.title(\"Boxplot der Skip Rate (%)\")\n",
    "plt.xlabel(\"Skip Rate (%)\")\n",
    "plt.grid(True, axis='x')\n",
    "plt.show()"
   ]
  },
  {
   "cell_type": "markdown",
   "id": "8eff50a9",
   "metadata": {},
   "source": [
    "Die Skip Rate in diesem Datensatz liegt im Durchschnitt bei etwa 20 %, wobei die meisten Songs Werte zwischen 10 % und 30 % aufweisen.\n",
    "Einige Songs stechen jedoch mit sehr niedriger oder sehr hoher Skip Rate hervor. So liegt das untere 5. Perzentil bei lediglich 3.7 %, das obere 5. Perzentil hingegen bei über 37 %.\n",
    "\n",
    "Insgesamt zeigt sich eine relativ gleichmäßige Verteilung ohne starke Schieflage, was darauf hinweist, dass das Überspringverhalten nicht durch eine einzelne Gruppe dominiert wird.\n",
    "Die Werte deuten darauf hin, dass sowohl besonders selten übersprungende als auch besonders häufog übersprungende Songs existieren, die in weiteren Analysen gezielt betrachtet werden könnten."
   ]
  },
  {
   "cell_type": "markdown",
   "id": "107570b0",
   "metadata": {},
   "source": [
    "## 1.3 Skip Rate nach Musikgenre\n",
    "\n",
    "Da Musikgeschmack stark genreabhängig ist, könnte auch die Skip Rate mit dem Genre eines Songs zusammenhängen.\n",
    "Unterschiedliche Genres sprechen unterschiedliche Zielgruppen an und können sich hinsichtlich Aufbau, Länge und Hörgewohnheiten stark unterscheiden.\n",
    "\n",
    "Im Folgenden wird untersucht, wie hoch die durchschnittliche Skip Rate je Genre ausfällt."
   ]
  },
  {
   "cell_type": "code",
   "execution_count": null,
   "id": "80b8fdb7",
   "metadata": {},
   "outputs": [],
   "source": [
    "# Durchschnittliche Skip Rate pro Genre berechnen\n",
    "genre_means = df.groupby(\"Genre\")[\"Skip Rate (%)\"].mean().sort_values(ascending=False)\n",
    "\n",
    "# Plot erstellen\n",
    "plt.figure(figsize=(10, 8))\n",
    "sns.barplot(\n",
    "    x=genre_means.values,\n",
    "    y=genre_means.index,\n",
    "    hue=genre_means.index,\n",
    "    palette=\"viridis\",\n",
    "    dodge=False,\n",
    "    legend=False\n",
    ")\n",
    "plt.xlabel(\"Durchschnittliche Skip Rate (%)\")\n",
    "plt.ylabel(\"Genre\")\n",
    "plt.title(\"Durchschnittliche Skip Rate nach Musikgenre\")\n",
    "plt.tight_layout()\n",
    "plt.show()"
   ]
  },
  {
   "cell_type": "markdown",
   "id": "5fdae0c4",
   "metadata": {},
   "source": [
    "Die Analyse zeigt klare Unterschiede in der durchschnittlichen Skip Rate je Musikgenre. Besonders auffällig ist hier, dass Pop-Songs am häufigsten übersprungen werden, gefolgt von Hip Hop, Rock und EDM. Genres wie Indie, K-pop und klassische Musik weisen dagegen die niedrigsten Skip Rates im Datensatz auf.\n",
    "\n",
    "Ein möglicher Erklärungsansatz ist, dass populäre Genres wie Pop häufiger konsumiert werden. Nutzer*innen skippen eher, wenn ihnen der Song nicht sofort gefällt. Weniger massentaugliche Genres wie Indie oder Classical könnten dagegen gezielter ausgewählt und daher seltener übersprungen werden.\n",
    "\n",
    "Diese Beobachtungen legen nahe, dass das Genre tatsächlich ein relevanter Prädiktor für die Skip Rate sein könnte und in weiteren Analysen berücksichtigt werden sollte."
   ]
  },
  {
   "cell_type": "markdown",
   "id": "dc6fae49",
   "metadata": {},
   "source": [
    "## 1.4 Streuung der Skip Rate innerhalb der Genres\n",
    "\n",
    "Nachdem die durchschnittliche Skip Rate je Genre betrachtet wurde, wird nun die Verteilung innerhalb der einzelnen Genres analysiert.\n",
    "Boxplots zeigen dabei sowohl typische Werte (Median), als auch die Streuung (Interquartilsabstand) und eventuelle Ausreißer."
   ]
  },
  {
   "cell_type": "code",
   "execution_count": null,
   "id": "292f4a55",
   "metadata": {},
   "outputs": [],
   "source": [
    "# Boxplot der Skip Rate pro Genre\n",
    "plt.figure(figsize=(12, 8))\n",
    "sns.boxplot(data=df, x=\"Skip Rate (%)\", y=\"Genre\", hue=\"Genre\", palette=\"viridis\", legend=False)\n",
    "plt.title(\"Verteilung der Skip Rate innerhalb der Genres\")\n",
    "plt.xlabel(\"Skip Rate (%)\")\n",
    "plt.ylabel(\"Genre\")\n",
    "plt.tight_layout()\n",
    "plt.show()"
   ]
  },
  {
   "cell_type": "markdown",
   "id": "d84f7a1f",
   "metadata": {},
   "source": [
    "Die Boxplots zeigen, dass die Skip Rate innerhalb der meisten Genres stark variiert. Für nahezu alle Genres finden sich sowohl Songs mit extrem niedriger als auch sehr hoher Skip Rate. Das legt nahe, dass das Genre zwar ein relevanter Faktor für die Skip Rate im Mittel ist, aber nicht allein entscheidend."
   ]
  },
  {
   "cell_type": "markdown",
   "id": "9461d6d4",
   "metadata": {},
   "source": [
    "## 1.5 Zusammenhang zwischen Skip Rate und monatlicher Hörerzahl\n",
    "\n",
    "Ein möglicher Einflussfaktor auf die Skip Rate ist die Popularität der Künstler*innen.\n",
    "Es liegt nahe anzunehmen, dass Songs von sehr bekannten Künstler**innen mit vielen monatlichen Hörer*innen seltener übersprungen werden, z. B. weil sie bekannter oder erwarteter sind.\n",
    "\n",
    "Im Folgenden wird dieser Zusammenhang mittels eines Scatterplots dargestellt."
   ]
  },
  {
   "cell_type": "code",
   "execution_count": null,
   "id": "ef351706",
   "metadata": {},
   "outputs": [],
   "source": [
    "# Scatterplot: Skip Rate vs. Monthly Listeners\n",
    "plt.figure(figsize=(8, 6))\n",
    "sns.regplot(\n",
    "    data=df,\n",
    "    x=\"Monthly Listeners (Millions)\",\n",
    "    y=\"Skip Rate (%)\",\n",
    "    scatter_kws={'alpha':0.4, 's':30},\n",
    "    line_kws={'color': 'red'}\n",
    ")\n",
    "plt.title(\"Skip Rate vs. Monthly Listeners (mit Trendlinie)\")\n",
    "plt.xlabel(\"Monatliche Hörer*innen (in Millionen)\")\n",
    "plt.ylabel(\"Skip Rate (%)\")\n",
    "plt.grid(True)\n",
    "plt.tight_layout()\n",
    "plt.show()\n",
    "\n",
    "\n",
    "# Korrelationskoeffizient berechnen\n",
    "corr = df[\"Monthly Listeners (Millions)\"].corr(df[\"Skip Rate (%)\"])\n",
    "print(f\"Korrelation zwischen Skip Rate und Monthly Listeners: {corr:.2f}\")"
   ]
  },
  {
   "cell_type": "markdown",
   "id": "3dcd22f3",
   "metadata": {},
   "source": [
    "Die Analyse zeigt, dass es keinen erkennbaren Zusammenhang zwischen der Skip Rate eines Songs und der monatlichen Hörerzahl der Künstler*innen gibt. Dies bestätigt auch der Korrelationswert von 0.01 – also praktisch null.\n",
    "\n",
    "Daraus lässt sich schließen, dass die Popularität eines Künstlers kein verlässlicher Prädiktor dafür ist, wie häufig ein Song übersprungen wird. Sowohl sehr beliebte als auch wenig bekannte Künstler*innen können Songs mit hoher oder niedriger Skip Rate haben."
   ]
  },
  {
   "cell_type": "markdown",
   "id": "19a5f1ee",
   "metadata": {},
   "source": [
    "## 1.6 Skip Rate in Abhängigkeit vom Erscheinungsjahr\n",
    "\n",
    "Ein weiterer potenzieller Einflussfaktor auf das Überspringverhalten könnte das Erscheinungsjahr eines Songs sein.\n",
    "Es ist denkbar, dass Songs, die vor kurzem veröffentlicht wurden, entweder besonders oft gehört oder auch schneller wieder übersprungen werden, z. B. aufgrund von Trends."
   ]
  },
  {
   "cell_type": "code",
   "execution_count": null,
   "id": "cc000278",
   "metadata": {},
   "outputs": [],
   "source": [
    "# Durchschnittliche Skip Rate pro Jahr\n",
    "year_means = df.groupby(\"Release Year\")[\"Skip Rate (%)\"].mean()\n",
    "\n",
    "# Plot\n",
    "plt.figure(figsize=(10, 6))\n",
    "sns.lineplot(x=year_means.index, y=year_means.values, marker=\"o\")\n",
    "plt.title(\"Durchschnittliche Skip Rate pro Erscheinungsjahr\")\n",
    "plt.xlabel(\"Erscheinungsjahr\")\n",
    "plt.ylabel(\"Skip Rate (%)\")\n",
    "plt.grid(True)\n",
    "plt.tight_layout()\n",
    "plt.show()"
   ]
  },
  {
   "cell_type": "markdown",
   "id": "86ff8fc4",
   "metadata": {},
   "source": [
    "Zwischen 2018 und 2023 zeigt sich ein leichter, aber auffälliger Trend: Die durchschnittliche Skip Rate sinkt zunächst bis zum Jahr 2021 deutlich ab, bevor sie in den Jahren 2022 und 2023 wieder leicht ansteigt. Besonders auffällig ist das Jahr 2021, das mit einer durchschnittlichen Skip Rate von nur ca. 16 % einen deutlichen Ausreißer nach unten darstellt.\n",
    "Insgesamt lässt sich jedoch kein klarer linearer Zusammenhang zwischen Erscheinungsjahr und Skip Rate feststellen."
   ]
  },
  {
   "cell_type": "markdown",
   "id": "1d4d56fc",
   "metadata": {},
   "source": [
    "## 1.7 Skip Rate nach Plattformtyp\n",
    "\n",
    "Die Art der genutzten Plattform, etwa ob ein Nutzer oder eine Nutzerin ein kostenloses oder kostenpflichtiges Abo verwendet, kann das Hörverhalten beeinflussen."
   ]
  },
  {
   "cell_type": "code",
   "execution_count": null,
   "id": "fa2a21da",
   "metadata": {},
   "outputs": [],
   "source": [
    "# Mittelwert der Skip Rate je Plattformtyp berechnen\n",
    "platform_means = df.groupby(\"Platform Type\")[\"Skip Rate (%)\"].mean().sort_values()\n",
    "\n",
    "# Plot\n",
    "plt.figure(figsize=(8, 5))\n",
    "sns.barplot(\n",
    "    x=platform_means.values,\n",
    "    y=platform_means.index,\n",
    "    hue=platform_means.index,\n",
    "    palette=\"viridis\",\n",
    "    dodge=False,\n",
    "    legend=False\n",
    ")\n",
    "plt.xlabel(\"Durchschnittliche Skip Rate (%)\")\n",
    "plt.ylabel(\"Plattformtyp\")\n",
    "plt.title(\"Skip Rate nach Plattformtyp\")\n",
    "plt.tight_layout()\n",
    "plt.show()\n",
    "\n",
    "for platform, skiprate in platform_means.items():\n",
    "    print(f\"{platform}: {skiprate:.2f} %\")"
   ]
  },
  {
   "cell_type": "markdown",
   "id": "c5390a62",
   "metadata": {},
   "source": [
    "Die Analyse zeigt, dass der Plattformtyp keinen signifikanten Unterschied in der durchschnittlichen Skip Rate aufweist. Beide Gruppen liegen mit einer durchschnittlichen Skip Rate von etwas über 20 % nahezu gleichauf."
   ]
  },
  {
   "cell_type": "markdown",
   "id": "b05b9c86",
   "metadata": {},
   "source": [
    "## 1.8 Skip Rate in Abhängigkeit von der durchschnittlichen Stream-Dauer\n",
    "\n",
    "Ein möglicher Einflussfaktor auf das Überspringverhalten ist die durchschnittliche Hördauer eines Songs. Die Variable `Avg Stream Duration (Min)` zeigt, wie lange ein Song im Durchschnitt pro Stream gehört wird."
   ]
  },
  {
   "cell_type": "code",
   "execution_count": null,
   "id": "e2cf7b19",
   "metadata": {},
   "outputs": [],
   "source": [
    "# Scatterplot: Skip Rate vs. durchschnittliche Hördauer\n",
    "plt.figure(figsize=(8, 6))\n",
    "sns.regplot(\n",
    "    data=df,\n",
    "    x=\"Avg Stream Duration (Min)\",\n",
    "    y=\"Skip Rate (%)\",\n",
    "    scatter_kws={'alpha':0.4, 's':30},\n",
    "    line_kws={'color': 'red'}\n",
    ")\n",
    "plt.title(\"Skip Rate vs. durchschnittliche Stream-Dauer\")\n",
    "plt.xlabel(\"Durchschnittliche Stream-Dauer (Minuten)\")\n",
    "plt.ylabel(\"Skip Rate (%)\")\n",
    "plt.grid(True)\n",
    "plt.tight_layout()\n",
    "plt.show()\n",
    "\n",
    "# Korrelationskoeffizient berechnen\n",
    "corr_duration = df[\"Avg Stream Duration (Min)\"].corr(df[\"Skip Rate (%)\"])\n",
    "print(f\"Korrelation zwischen Skip Rate und Stream-Dauer: {corr_duration:.2f}\")"
   ]
  },
  {
   "cell_type": "markdown",
   "id": "51a66233",
   "metadata": {},
   "source": [
    "Es zeigt, dass zwischen der durchschnittlichen Hördauer eines Songs und dessen Skip Rate kein nennenswerter Zusammenhang besteht. Der Korrelationswert von –0.02 bestätigt, dass sich die beiden Variablen praktisch unabhängig voneinander verhalten."
   ]
  },
  {
   "cell_type": "markdown",
   "id": "db4c21b2",
   "metadata": {},
   "source": [
    "## 1.9 Fazit der explorativen Datenanalyse\n",
    "\n",
    "Im Rahmen dieser explorativen Datenanalyse wurde untersucht, welche Faktoren potenziell mit der Skip Rate von Songs auf Spotify zusammenhängen. Ziel war es, auf Basis des Datensatzes \"Spotify Global Streaming Data 2024\" Hypothesen zu formulieren und erste Zusammenhänge sichtbar zu machen.\n",
    "\n",
    "Die wichtigsten Erkenntnisse im Überblick:\n",
    "\n",
    "- **Genre**: Der deutlichste Einflussfaktor. Es zeigten sich klare Unterschiede in der durchschnittlichen Skip Rate zwischen verschiedenen Musikrichtungen. Pop-Songs wiesen die höchste durchschnittliche Skip Rate auf, während z. B. Indie, K-pop und klassische Musik eher seltener übersprungen wurden. Auch die Streuung innerhalb der Genres war teils sehr unterschiedlich.\n",
    "\n",
    "- **Plattformtyp (Free vs. Premium)**: Es konnte kein relevanter Unterschied in der durchschnittlichen Skip Rate festgestellt werden. Das Überspringverhalten scheint unabhängig vom Abo-Modell zu sein.\n",
    "\n",
    "- **Beliebtheit (Monthly Listeners)**: Der Korrelationswert von nur 0.01 deutet auf keinen Zusammenhang zwischen der Popularität eines Künstlers und der Skip Rate seiner Songs hin.\n",
    "\n",
    "- **Erscheinungsjahr**: Ein leichter Trend mit einem auffälligen Rückgang der Skip Rate im Jahr 2021 war erkennbar, jedoch ohne klaren linearen Zusammenhang. Aufgrund der begrenzten Jahrgangsbreite im Datensatz ist diese Analyse nur eingeschränkt aussagekräftig.\n",
    "\n",
    "- **Durchschnittliche Stream-Dauer**: Auch hier zeigte sich kein relevanter Zusammenhang. Die Skip Rate war weitgehend unabhängig davon, wie lange ein Song im Schnitt pro Stream gehört wurde.\n",
    "\n",
    "### Zusammenfassung:\n",
    "\n",
    "Die explorative Datenanalyse zeigt, dass insbesondere das Genre eines Songs ein zentraler Prädiktor für das Überspringverhalten sein kann. Andere Merkmale wie Beliebtheit, Plattform oder Hördauer haben dagegen keinen erkennbaren Einfluss im gegebenen Datensatz."
   ]
  },
  {
   "cell_type": "markdown",
   "id": "e9caaf24",
   "metadata": {},
   "source": [
    "# 2 Multifaktorielle Regression\n",
    "Nachdem im ersten Kapitel die wichtigsten Einflussfaktoren auf die Skip Rate von Songs explorativ untersucht wurden, folgt nun eine vertiefende Analyse mittels multifaktorieller Regressionsverfahren ([2]). Ziel dieses Kapitels ist es, die gleichzeitigen Effekte mehrerer Variablen auf die Skip Rate quantitativ zu bestimmen und deren relative Bedeutung zu bewerten.\n",
    "\n",
    "Dazu werden zunächst alle relevanten Merkmale des Datensatzes – darunter Genre, Plattformtyp, Popularität, Erscheinungsjahr und weitere – in ein Regressionsmodell integriert. Durch die Berücksichtigung mehrerer Einflussgrößen gleichzeitig kann überprüft werden, welche Faktoren auch unter Kontrolle anderer Variablen einen signifikanten Beitrag zur Erklärung der Skip Rate leisten."
   ]
  },
  {
   "cell_type": "markdown",
   "id": "9d98bea6",
   "metadata": {},
   "source": [
    "Die für die Regression benötigten kategorialen Variablen wie Genre, Plattformtyp, Land, Künstler*in und Album werden vor der Modellierung in numerische Variablen umgewandelt. Dies geschieht mithilfe des sogenannten One-Hot-Encoding: Für jede Ausprägung einer Kategorie wird eine eigene Spalte erzeugt, die den Wert 1 annimmt, wenn der jeweilige Song diese Ausprägung besitzt, und sonst 0. Dadurch können auch nicht-numerische Merkmale in das Regressionsmodell integriert werden. Um Redundanzen zu vermeiden, wird jeweils die erste Kategorie einer Variable ausgelassen (drop_first=True). So entsteht eine rein numerische Datenmatrix, die für die Regressionsanalyse geeignet ist."
   ]
  },
  {
   "cell_type": "code",
   "execution_count": null,
   "id": "3cefdde3",
   "metadata": {},
   "outputs": [],
   "source": [
    "df_encoded = pd.get_dummies(df, columns=['Country', 'Genre', 'Platform Type', 'Artist', 'Album'], drop_first=True)"
   ]
  },
  {
   "cell_type": "markdown",
   "id": "1b179b65",
   "metadata": {},
   "source": [
    "## 2.1 Korrelation\n",
    "Die Korrelationsmatrix wird genutzt, um die Zusammenhänge zwischen Variablen im Datensatz zu untersuchen. Sie zeigt, wie stark und in welche Richtung einzelne Merkmale miteinander korrelieren. Besonders interessant ist dabei die Korrelation der einzelnen Features mit der Zielvariable „Skip Rate (%)“, um potenziell relevante Einflussfaktoren für die weitere Modellierung zu identifizieren."
   ]
  },
  {
   "cell_type": "code",
   "execution_count": null,
   "id": "52126b51",
   "metadata": {},
   "outputs": [],
   "source": [
    "corr_matrix = df_encoded.corr(numeric_only=True)\n",
    "plt.figure(figsize=(12,8))\n",
    "sns.heatmap(corr_matrix, cmap='coolwarm', center=0)\n",
    "plt.title(\"Korrelationsmatrix (df_encoded)\")\n",
    "plt.show()"
   ]
  },
  {
   "cell_type": "markdown",
   "id": "8ed40249",
   "metadata": {},
   "source": [
    "Die erhaltene Korrelationsmatrix zeigt die paarweisen Zusammenhänge zwischen allen Variablen des kodierten Datensatzes. In der Matrix sind die Werte zwischen -1 und 1 angegeben: Ein Wert nahe 1 bedeutet eine starke positive Korrelation, ein Wert nahe -1 eine starke negative Korrelation, und Werte um 0 deuten auf keinen linearen Zusammenhang hin. Die Visualisierung als Heatmap erleichtert es, Muster und auffällige Korrelationen auf einen Blick zu erfassen. So ist zu sehen das eine extreme Korrelation zwischen Artist und den Alben die der jeweilige Artist geschrieben hat existiert."
   ]
  },
  {
   "cell_type": "markdown",
   "id": "b37fc836",
   "metadata": {},
   "source": [
    "Die Skip Rate zeigt in der Korrelationsmatrix nur geringe Korrelationen mit den meisten anderen Variablen, sodass sich keine klaren linearen Zusammenhänge ablesen lassen. Um dennoch einen Eindruck von der Stärke und Verteilung der Korrelationen zu erhalten, wird ergänzend ein Boxplot der Korrelationskoeffizienten dargestellt. Dieser visualisiert, wie schwach oder stark die einzelnen Merkmale insgesamt mit der Skip Rate zusammenhängen."
   ]
  },
  {
   "cell_type": "code",
   "execution_count": null,
   "id": "1432a488",
   "metadata": {},
   "outputs": [],
   "source": [
    "plt.figure(figsize=(6, 2))\n",
    "sns.boxplot(x=corr_matrix['Skip Rate (%)'].drop('Skip Rate (%)'))\n",
    "plt.title(\"Boxplot der Korrelationen mit Skip Rate (%)\")\n",
    "plt.xlabel(\"Korrelationskoeffizient\")\n",
    "plt.grid(True, axis='x')\n",
    "plt.show()"
   ]
  },
  {
   "cell_type": "code",
   "execution_count": null,
   "id": "5fa2941c",
   "metadata": {},
   "outputs": [],
   "source": [
    "corr_target = corr_matrix['Skip Rate (%)'].sort_values(ascending=False)\n",
    "print(\"Top 5 höchste Korrelationen mit Skip Rate (%):\")\n",
    "print(corr_target.head(5))\n",
    "print(\"\\nTop 5 niedrigste Korrelationen mit Skip Rate (%):\")\n",
    "print(corr_target.tail(5))"
   ]
  },
  {
   "cell_type": "markdown",
   "id": "c739f95e",
   "metadata": {},
   "source": [
    "Um die Relevanz einzelner Merkmale für die Skip Rate besser einschätzen zu können, werden zusätzlich die Extremwerte der Korrelationskoeffizienten ausgegeben. Dadurch lässt sich erkennen, welche Variablen die höchsten positiven bzw. negativen Zusammenhänge mit der Skip Rate aufweisen, auch wenn diese insgesamt eher schwach ausfallen."
   ]
  },
  {
   "cell_type": "markdown",
   "id": "9f3f6a4f",
   "metadata": {},
   "source": [
    "## 2.2 Multifaktorielle Regression\n",
    "Für die Regressionsanalyse werden die Daten in unabhängige Variablen (Features) und die abhängige Variable (Skip Rate) aufgeteilt. Anschließend wird der Datensatz in Trainings- und Testdaten unterteilt, wobei 20 % der Daten als Testmenge verwendet werden."
   ]
  },
  {
   "cell_type": "code",
   "execution_count": null,
   "id": "28892bce",
   "metadata": {},
   "outputs": [],
   "source": [
    "X = df_encoded.drop(columns=['Skip Rate (%)'])\n",
    "y = df_encoded['Skip Rate (%)']"
   ]
  },
  {
   "cell_type": "code",
   "execution_count": null,
   "id": "6f14c0a4",
   "metadata": {},
   "outputs": [],
   "source": [
    "X_train, X_test, y_train, y_test = train_test_split(X, y, test_size=0.2, random_state=42)"
   ]
  },
  {
   "cell_type": "code",
   "execution_count": null,
   "id": "ee459cc9",
   "metadata": {},
   "outputs": [],
   "source": [
    "model = LinearRegression()\n",
    "model.fit(X_train, y_train)"
   ]
  },
  {
   "cell_type": "code",
   "execution_count": null,
   "id": "321a6515",
   "metadata": {},
   "outputs": [],
   "source": [
    "y_pred = model.predict(X_test)\n",
    "print(\"R^2:\", r2_score(y_test, y_pred))\n",
    "print(\"MSE:\", mean_squared_error(y_test, y_pred))\n",
    "\n",
    "\n",
    "X_numeric = X.apply(pd.to_numeric, errors='coerce')\n",
    "X_numeric = X_numeric.astype(float)\n",
    "X_sm = sm.add_constant(X_numeric)\n",
    "model_sm = sm.OLS(y, X_sm).fit()\n",
    "pvalues = model_sm.pvalues[X.columns]\n",
    "\n",
    "coef_df = pd.DataFrame({\n",
    "    \"Feature\": X.columns,\n",
    "    \"Koeffizient\": model.coef_,\n",
    "    \"p-Wert\": pvalues\n",
    "}).sort_values(by=\"Koeffizient\", key=abs, ascending=False)\n",
    "print(coef_df.head(10))"
   ]
  },
  {
   "cell_type": "markdown",
   "id": "5d42bd2c",
   "metadata": {},
   "source": [
    "R² beträgt -0,12. Dieser negativer R²-Wert bedeutet, dass das Modell schlechter vorhersagt als der Mittelwert der Zielvariable. Das Modell kann die Skip Rate also nicht sinnvoll erklären.\n",
    "\n",
    "Der mittlere quadratische Fehler (MSE) liegt bei 128,34. Das ist ein Maß für die durchschnittliche Abweichung der Vorhersagen von den tatsächlichen Werten – je kleiner, desto besser. Hier ist der Wert relativ hoch.\n",
    "\n",
    "Die Tabelle zeigt die zehn Merkmale mit den größten absoluten Regressionskoeffizienten sowie deren p-Werte. Ein negativer Koeffizient bedeutet, dass das jeweilige Merkmal die Skip Rate senkt, während ein positiver Wert auf eine Erhöhung der Skip Rate hinweist. Zu den wichtigsten Einflussfaktoren zählen vor allem Länder wie „Country_Germany“ und „Country_United Kingdom“ sowie verschiedene Genres, beispielsweise „Genre_Pop“ oder „Genre_Hip Hop“. Die p-Werte geben an, wie statistisch signifikant die jeweiligen Koeffizienten sind. Von den aufgeführten Merkmalen ist lediglich „Country_Germany“ mit einem p-Wert von 0,049 knapp signifikant, während die übrigen Merkmale keine statistische Signifikanz aufweisen."
   ]
  },
  {
   "cell_type": "code",
   "execution_count": null,
   "id": "0227f25e",
   "metadata": {},
   "outputs": [],
   "source": [
    "feat1 = \"Monthly Listeners (Millions)\"\n",
    "feat2 = \"Total Streams (Millions)\"\n",
    "\n",
    "xs = df[feat1]\n",
    "ys = df[feat2]\n",
    "zs = df[\"Skip Rate (%)\"]\n",
    "\n",
    "fig = plt.figure(figsize=(10,7))\n",
    "ax = fig.add_subplot(111, projection='3d')\n",
    "ax.scatter(xs, ys, zs, c=zs, cmap='viridis', alpha=0.7)\n",
    "\n",
    "X_plane = df[[feat1, feat2]]\n",
    "y_plane = df[\"Skip Rate (%)\"]\n",
    "model3d = LinearRegression().fit(X_plane, y_plane)\n",
    "\n",
    "x_surf, y_surf = np.meshgrid(\n",
    "    np.linspace(xs.min(), xs.max(), 20),\n",
    "    np.linspace(ys.min(), ys.max(), 20)\n",
    ")\n",
    "z_surf = model3d.intercept_ + model3d.coef_[0]*x_surf + model3d.coef_[1]*y_surf\n",
    "\n",
    "ax.plot_surface(x_surf, y_surf, z_surf, alpha=0.3, color='orange')\n",
    "\n",
    "ax.set_xlabel(feat1)\n",
    "ax.set_ylabel(feat2)\n",
    "ax.set_zlabel('Skip Rate (%)')\n",
    "plt.title(\"3D-Regression: Skip Rate (%)\")\n",
    "plt.show()"
   ]
  },
  {
   "cell_type": "code",
   "execution_count": null,
   "id": "a22ea4d8",
   "metadata": {},
   "outputs": [],
   "source": [
    "plt.figure(figsize=(6,6))\n",
    "plt.scatter(y_test, y_pred, alpha=0.7)\n",
    "plt.xlabel(\"Wahre Skip Rate (%)\")\n",
    "plt.ylabel(\"Vorhergesagte Skip Rate (%)\")\n",
    "plt.title(\"Regression: Wahre vs. vorhergesagte Skip Rate\")\n",
    "plt.plot([y_test.min(), y_test.max()], [y_test.min(), y_test.max()], 'r--')\n",
    "plt.show()"
   ]
  },
  {
   "cell_type": "markdown",
   "id": "faa323ff",
   "metadata": {},
   "source": [
    "Der Scatterplot stellt die tatsächlichen Skip-Rate-Werte den vom Regressionsmodell vorhergesagten Werten gegenüber. Jeder Punkt im Diagramm entspricht dabei einer Zeile aus den Testdaten: Die x-Achse zeigt die reale Skip Rate, die y-Achse die vom Modell berechnete Skip Rate. Idealerweise würden alle Punkte auf einer Diagonalen liegen, was bedeuten würde, dass das Modell die Skip Rate exakt vorhersagen kann.\n",
    "\n",
    "Gerade deshalb ist der Scatterplot so relevant: Er macht auf einen Blick sichtbar, wie schlecht das Modell arbeitet. Die Punkte sind weit gestreut und folgen keiner klaren Linie. Das zeigt, dass das Modell die tatsächlichen Werte nicht zuverlässig abbilden kann. Der Scatterplot ist somit ein zentrales Werkzeug, um die Vorhersagekraft eines Regressionsmodells zu beurteilen und Schwächen unmittelbar zu erkennen."
   ]
  },
  {
   "cell_type": "markdown",
   "id": "1cd035aa",
   "metadata": {},
   "source": [
    "Wie sowohl das 3D-Modell als auch der Scatterplot deutlich zeigen, ist das verwendete Regressionsmodell nicht geeignet, die Skip Rate zuverlässig vorherzusagen. Im 3D-Modell, das die Skip Rate in Abhängigkeit von zwei ausgewählten Merkmalen darstellt, ist keine klare Struktur oder ein Zusammenhang zwischen den Variablen und der Zielgröße erkennbar. Die Punkte verteilen sich weitgehend ungeordnet im Raum, und die Regressionsfläche passt sich den Daten kaum sinnvoll an. Diese Beobachtungen spiegeln sich auch in den schlechten Gütemaßen wider und verdeutlichen, dass das Modell für die Vorhersage der Skip Rate ungeeignet ist."
   ]
  },
  {
   "cell_type": "markdown",
   "id": "2e195e99",
   "metadata": {},
   "source": [
    "## 2.3 Fazit\n",
    "Die multifaktorielle Regression zeigt, dass sich die Skip Rate von Alben mit den eingesetzten multifaktoriellen Regressionsverfahren nicht zuverlässig vorhersagen lässt. Weder das lineare Regressionsmodell noch die Analyse der Regressionskoeffizienten liefern überzeugende Ergebnisse: Die Gütemaße wie der negative R²-Wert und der hohe mittlere quadratische Fehler deuten darauf hin, dass das Modell die tatsächlichen Werte schlechter abbildet als eine einfache Mittelwertschätzung. Auch die Visualisierungen, insbesondere das 3D-Modell und der Scatterplot, machen deutlich, dass keine klaren Zusammenhänge zwischen den untersuchten Merkmalen und der Skip Rate bestehen. Die Punkte sind weit gestreut und zeigen keine erkennbare Struktur. Insgesamt lässt sich festhalten, dass die betrachteten Merkmale im gegebenen Datensatz nicht ausreichen, um die Skip Rate mit klassischen Regressionsmethoden sinnvoll zu modellieren.\n",
    "\n"
   ]
  },
  {
   "cell_type": "markdown",
   "id": "2914af34",
   "metadata": {},
   "source": [
    "# 3. Hauptkomponenten Analyse\n",
    "Es wurde gezeigt, dass eine Multifaktorielle Regression die Skip Rate nicht vorhersagen kann. Daher wird im folgenden\n",
    "eine Hauptkomponenten Analyse durchgeführt um mit den gefundenen Komponenten eine besseres Modell zu bilden.\n",
    "\n",
    "Die Hauptkomponentenanalyse (PCA) ist ein Verfahren zur Dimensionsreduktion, das darauf abzielt, die wesentlichen Strukturen in hochdimensionalen Datensätzen zu erkennen. Sie transformiert die ursprünglichen Variablen in eine neue Menge unkorrelierter Variablen, die sogenannten Hauptkomponenten. Diese Hauptkomponenten sind so konstruiert, dass die erste Komponente die größte mögliche Varianz der Daten erklärt, die zweite die nächstgrößte und so weiter. Die Transformation erfolgt durch eine lineare Kombination der Ausgangsvariablen, wobei die Gewichte (Ladungen) die Bedeutung der einzelnen Variablen für die jeweilige Komponente angeben. \n",
    "\n",
    "PCA ermöglicht es, Muster und Zusammenhänge in den Daten zu erkennen, die mit bloßem Auge schwer zu identifizieren wären. Die Interpretation der Hauptkomponenten erfolgt über die Ladungen: Hohe positive oder negative Werte zeigen, welche Variablen besonders stark zur jeweiligen Komponente beitragen. Durch die Reduktion auf wenige Hauptkomponenten kann man die Komplexität der Daten verringern und gleichzeitig einen Großteil der Information bewahren. ([1])"
   ]
  },
  {
   "cell_type": "markdown",
   "id": "16f49287",
   "metadata": {},
   "source": [
    "## 3.1 Datenvorbereitung\n",
    "\n",
    "Zunächst werden die kategorialen Variablen des Datensatzes mit einem One-Hot-Encoding umgeformt."
   ]
  },
  {
   "cell_type": "code",
   "execution_count": null,
   "id": "58a9496c",
   "metadata": {},
   "outputs": [],
   "source": [
    "# Teilung der Test Daten zur Vorhersage der Skip Rate (%) mit Kodierung kategorialer Variablen\n",
    "# Kategoriale Variablen werden automatisch per One-Hot-Encoding kodiert.\n",
    "# Feature- und Zielspalten\n",
    "feature_cols = [\n",
    "    'Country', \n",
    "    'Artist', \n",
    "    'Album', \n",
    "    'Genre', \n",
    "    'Release Year',\n",
    "    'Monthly Listeners (Millions)', \n",
    "    'Total Streams (Millions)',\n",
    "    'Total Hours Streamed (Millions)', \n",
    "    'Avg Stream Duration (Min)',\n",
    "    'Streams Last 30 Days (Millions)'\n",
    "]\n",
    "\n",
    "target_col = 'Skip Rate (%)'\n",
    "\n",
    "# Filtere und bereite die Daten vor\n",
    "df_reg = df[feature_cols + [target_col]].dropna()\n",
    "X = df_reg[feature_cols]\n",
    "y = df_reg[target_col]\n",
    "\n",
    "# Kategoriale Variablen kodieren mit One-Hot-Encoding\n",
    "X_encoded = pd.get_dummies(X, drop_first=True)"
   ]
  },
  {
   "cell_type": "markdown",
   "id": "f82f6e7a",
   "metadata": {},
   "source": [
    "Bevor eine Hauptkomponentenanalyse durchgeführt wird, werden alle Variablen Standertisiert um Vergleichbarkeit zwischen den Variablen herzustellen."
   ]
  },
  {
   "cell_type": "code",
   "execution_count": null,
   "id": "f792ad76",
   "metadata": {},
   "outputs": [],
   "source": [
    "# Hauptkomponentenanalyse (PCA) auf den kodierten Features\n",
    "# Die Features werden vor der PCA standardisiert.\n",
    "scaler = StandardScaler()\n",
    "X_scaled = scaler.fit_transform(X_encoded)\n"
   ]
  },
  {
   "cell_type": "markdown",
   "id": "15433487",
   "metadata": {},
   "source": [
    "## 3.2 Komponentenselektion\n",
    "\n",
    "Zur Selektion der Hauptkomponenten suchen wir zunächst, wie viele Komponenten es brauch um 90% der Varianz der Daten zu erklären. \n",
    "Die gefundenen Komponenten stellen wir nun mit ihrem Eigenwert in einem Scree-Plot dar. An diesem kann ein signifikanter Sprung identifiziert werden, um zu Entscheiden ab welchen Komponentenanzahl der Cutoff gewählt wird.\n",
    "Visuell auffällig sind die Sprunge zur Zweiten, Zwölften und Dreizehnten Komponente. Alle Komponente zwischen von dem Ersten bis zur 13. haben einen Eigenwert größer als eins und genügen damit dem Kaiser-Kriterium. \n",
    "Da eine weitere Analyse mit nur einem Kriterium reduntant wäre, wird sich für den nächsten signifikanten Knick an der Komponente zwölf entschieden. "
   ]
  },
  {
   "cell_type": "code",
   "execution_count": null,
   "id": "a04aa268",
   "metadata": {},
   "outputs": [],
   "source": [
    "# Führe PCA durch, sodass mindestens 90% der Varianz erklärt werden\n",
    "pca = PCA(n_components=0.9, svd_solver='full')\n",
    "X_pca = pca.fit_transform(X_scaled)\n",
    "\n",
    "# Scree-Plot: Eigenwerte der Hauptkomponenten\n",
    "plt.figure(figsize=(8,4))\n",
    "plt.plot(range(1, len(pca.explained_variance_)+1), pca.explained_variance_, marker='o')\n",
    "plt.axhline(1, color='red', linestyle='--', label='Grenze = 1')\n",
    "plt.xlabel('Hauptkomponente')\n",
    "plt.ylabel('Eigenwert')\n",
    "plt.title('Scree-Plot der Hauptkomponenten (PCA)')\n",
    "plt.legend()\n",
    "plt.tight_layout()\n",
    "plt.show()\n"
   ]
  },
  {
   "cell_type": "markdown",
   "id": "b4076723",
   "metadata": {},
   "source": [
    "Die zwölf selektieren Komponeten erkären gemeinsam 45,66% der Varianz der Daten "
   ]
  },
  {
   "cell_type": "code",
   "execution_count": null,
   "id": "a9513910",
   "metadata": {},
   "outputs": [],
   "source": [
    "pca = PCA(n_components=12, svd_solver='full')\n",
    "X_pca = pca.fit_transform(X_scaled)\n",
    "\n",
    "print(f\"Erklärte Varianz: {np.sum(pca.explained_variance_ratio_)*100:.2f}%\")\n"
   ]
  },
  {
   "cell_type": "markdown",
   "id": "51fb60a9",
   "metadata": {},
   "source": [
    "## 3.3 Komponentenidentifikation\n",
    "\n",
    "Nun stellen wir die Ladungen der Variablen auf den Komponenten dar. Dazu wird eine Varimax transformation genutzt um starke Ladungen hervorzuheben und schwache Ladungen zu unterdrücken. ([1])\n",
    "\n",
    "An der Resultierenden Übersicht ist auffällig das jede Komponente von einem Album und ihrem jeweilgen Künstler*innen dominiert wird. \n",
    "Die allgemeinerien Variablen, wie das Erscheinungsjahr oder die Monatlichen Höhrer laden tendenziel auf alle Komponenten gleichermaßen. \n",
    "An der Darstellung ist zu beachten, dass alle Werte die unter den Wert von 0,2 fallen ausgeblendet wurden und die Tabelle lesbar zu gestalten. "
   ]
  },
  {
   "cell_type": "code",
   "execution_count": null,
   "id": "01db8999",
   "metadata": {},
   "outputs": [],
   "source": [
    "# Varimax-Rotation auf die PCA-Komponentenmatrix anwenden\n",
    "rotator = Rotator(method='varimax')\n",
    "rotated_components = rotator.fit_transform(pca.components_.T).T\n",
    "\n",
    "# Rotierte Komponentenmatrix als DataFrame anzeigen\n",
    "rotated_df = pd.DataFrame(rotated_components, columns=X_encoded.columns, index=[f'PC{i+1}' for i in range(pca.n_components_)]).T\n",
    "\n",
    "# Für jede Variable: Komponente mit höchster Ladung (nach Betrag) bestimmen\n",
    "max_comp = rotated_df.abs().idxmax(axis=1)\n",
    "max_val = rotated_df.abs().max(axis=1)\n",
    "comp_num = max_comp.str.extract(r'(\\d+)').astype(int)[0]\n",
    "\n",
    "# Sortierindex erstellen: erst nach Komponente, dann nach Höhe der Ladung (absteigend)\n",
    "sort_idx = pd.DataFrame({'comp': comp_num, 'val': max_val})\n",
    "sort_idx = sort_idx.sort_values(['comp', 'val'], ascending=[True, False]).index\n",
    "rotated_df_sorted = rotated_df.loc[sort_idx]\n",
    "\n",
    "# Werte < 0.08 ausblenden\n",
    "rotated_df_masked = rotated_df_sorted.map(lambda x: x if abs(x) >= 0.2 else \"\")\n",
    "\n",
    "# Trick um das gesamte DataFrame anzuzeigen\n",
    "pd.set_option('display.max_rows', None)\n",
    "pd.set_option('display.max_columns', None)\n",
    "display(rotated_df_masked)\n",
    "pd.reset_option('display.max_rows')\n",
    "pd.reset_option('display.max_columns')"
   ]
  },
  {
   "cell_type": "markdown",
   "id": "adaf0086",
   "metadata": {},
   "source": [
    "## 3.4 Multifaktorielle Regression mit Komponenten\n",
    "Nun wird eine neue Multifaktorielle Regression trainiert, jedoch mit den gefunden Komponenten anstelle der Rohdaten. \n",
    "\n",
    "Im direkten Vergleich ist eine Verbesserung der Kennwerte zu sehen. Jedoch nicht in einem Maße, dass das neue Modell bessere als eine Mittelswertschätzung des Skip Rate ist. "
   ]
  },
  {
   "cell_type": "code",
   "execution_count": null,
   "id": "fc23b16c",
   "metadata": {},
   "outputs": [],
   "source": [
    "# Multifaktorielle Regression mit den extrahierten Hauptkomponenten\n",
    "# Die Zielvariable y und die extrahierten Hauptkomponenten X_pca sind bereits definiert\n",
    "X_train_pca, X_test_pca, y_train_pca, y_test_pca = train_test_split(X_pca, y, test_size=0.2, random_state=42)\n",
    "\n",
    "reg_pca = LinearRegression()\n",
    "reg_pca.fit(X_train_pca, y_train_pca)\n",
    "y_pred_pca = reg_pca.predict(X_test_pca)\n",
    "\n",
    "print(\"R² (PCA-Komponenten):\", r2_score(y_test_pca, y_pred_pca))\n",
    "print(\"MSE (PCA-Komponenten):\", mean_squared_error(y_test_pca, y_pred_pca))"
   ]
  },
  {
   "cell_type": "markdown",
   "id": "ffcfb88d",
   "metadata": {},
   "source": [
    "# 4. Entscheidungsbaum\n",
    "Da eine Modellierung durch eine Multifaktorielle Regression mit Komponeten einer Hauptkomponentenanalyse nicht passend für die Schätzung der Skip Rate wird Abbschließend der Versuch unternommen ein Regressionsentscheidungsbaum trainiert.\n",
    "\n",
    "Ein Regressionsentscheidungsbaum ist ein Modell aus dem Bereich des maschinellen Lernens, das zur Vorhersage kontinuierlicher Zielgrößen eingesetzt wird. Der Baum besteht aus Knoten, an denen die Daten anhand von Entscheidungsregeln in Teilmengen aufgeteilt werden. Jeder Endknoten des Baums gibt eine Vorhersage für die Zielgröße ab, typischerweise den Mittelwert der Zielwerte in diesem Blatt. Die Aufteilung erfolgt so, dass die Homogenität innerhalb der Blätter maximiert wird, d.h. die Varianz der Zielgröße innerhalb eines Blatts möglichst gering ist."
   ]
  },
  {
   "cell_type": "markdown",
   "id": "a53268d2",
   "metadata": {},
   "source": [
    "Auch für dieses Modell wird der in 20% Testdaten und 80% Trainingsdaten geteilt."
   ]
  },
  {
   "cell_type": "code",
   "execution_count": null,
   "id": "552ae240",
   "metadata": {},
   "outputs": [],
   "source": [
    "# Splitte die Daten in Trainings- und Testdaten\n",
    "X_train, X_test, y_train, y_test = train_test_split(X_encoded, y, test_size=0.2, random_state=42)"
   ]
  },
  {
   "cell_type": "markdown",
   "id": "4a0aa2f0",
   "metadata": {},
   "source": [
    "## 4.1 Gridsuche\n",
    "\n",
    "Da die optimalen Parameter für das Training eines Entscheidungsbaums mit den gegeben Daten unbekannt ist, wird mit einer Gridsuche systematisch Parameter ausprobiert. Es werden jene Parameter ausgewählt, welche in dem größten Wert des Bestimmtheitsmaßes, R², resultieren."
   ]
  },
  {
   "cell_type": "code",
   "execution_count": null,
   "id": "fb1022b7",
   "metadata": {},
   "outputs": [],
   "source": [
    "# Grid Search zur Optimierung der Entscheidungsbaum-Parameter\n",
    "param_grid = {\n",
    "    'max_depth': [4, 6, 8, 12, None],\n",
    "    'min_impurity_decrease': [0.0, 0.01, 0.1, 0.5],\n",
    "    'min_samples_split': [2, 5, 10, 20]\n",
    "}\n",
    "\n",
    "grid_search = GridSearchCV(\n",
    "    DecisionTreeRegressor(random_state=42),\n",
    "    param_grid,\n",
    "    cv=5,\n",
    "    scoring='r2',\n",
    "    n_jobs=-1\n",
    ")\n",
    "grid_search.fit(X_train, y_train)\n",
    "\n",
    "print(\"Beste Parameterkombination:\")\n",
    "print(grid_search.best_params_)\n",
    "print(f\"Bester mittlerer R²-Score: {grid_search.best_score_:.3f}\")\n",
    "\n",
    "# Optional: Ergebnisse als DataFrame anzeigen\n",
    "# results_df = pd.DataFrame(grid_search.cv_results_)\n",
    "# display(results_df[['params', 'mean_test_score', 'std_test_score']].sort_values('mean_test_score', ascending=False).head(10))"
   ]
  },
  {
   "cell_type": "markdown",
   "id": "3b7f9843",
   "metadata": {},
   "source": [
    "## 4.2 Kreuzvalidierung\n",
    "\n",
    "Um ein Overfitting des Modells zu kontrollieren wird eine Kreuzvalidierung über 5 Holdouts berechnet. Das Ergebnis weißt eine akzeptierbare Streuung auf in Anbetracht der geringen Datenmenge."
   ]
  },
  {
   "cell_type": "code",
   "execution_count": null,
   "id": "909e4685",
   "metadata": {},
   "outputs": [],
   "source": [
    "reg_tree = DecisionTreeRegressor(**grid_search.best_params_, random_state=42)\n",
    "\n",
    "# Kreuzvalidierung für den Regressionsentscheidungsbaum\n",
    "splits = 5\n",
    "cv = KFold(n_splits=splits, shuffle=True, random_state=42)\n",
    "\n",
    "# R²-Scores\n",
    "r2_scores = cross_val_score(reg_tree, X_encoded, y, cv=cv, scoring='r2')\n",
    "print(f\"Mittlerer R²-Score ({splits}-fold CV): {np.mean(r2_scores):.3f} ± {np.std(r2_scores):.3f}\")\n",
    "\n",
    "# MSE-Scores (negativ, daher Vorzeichen umdrehen)\n",
    "mse_scores = cross_val_score(reg_tree, X_encoded, y, cv=cv, scoring=make_scorer(mean_squared_error, greater_is_better=False))\n",
    "print(f\"Mittlerer MSE ({splits}-fold CV): {(-np.mean(mse_scores)):.3f} ± {np.std(mse_scores):.3f}\")"
   ]
  },
  {
   "cell_type": "markdown",
   "id": "c1f3c74b",
   "metadata": {},
   "source": [
    "Final wird ein Regressionsbaum trainiert dessen Bestimmtheitsmaß negativ ist. Dies lässt darauf schließen, dass das Modell schlechter auf die Daten passt als eine Mittlewertsschätzung der Skip Rate. Abschließend ist daher zu folgern, dass eine Vorhersage der Skip Rate mittels eines Regressionentscheidungsbaum nicht möglich ist. "
   ]
  },
  {
   "cell_type": "code",
   "execution_count": null,
   "id": "e73e844e",
   "metadata": {},
   "outputs": [],
   "source": [
    "# Vorhersage und Bewertung\n",
    "reg_tree.fit(X_train, y_train)\n",
    "y_pred = reg_tree.predict(X_test)\n",
    "mse = mean_squared_error(y_test, y_pred)\n",
    "r2 = r2_score(y_test, y_pred)\n",
    "print(f\"MSE: {mse:.3f}, R²: {r2:.3f}\")\n"
   ]
  },
  {
   "cell_type": "markdown",
   "id": "272c3e3e",
   "metadata": {},
   "source": [
    "# 5. Zusammenfassung\n",
    "In dieser Arbeit wurde mit mehreren statistischen Verfahren, namentlich multifaktorieller Regression, Hauptkomponentenanalyse und Entscheidungsbaum, versucht, einen Zusammenhang zwischen der Skip Rate von Alben und ihren Eigenschaften herzustellen, wie zum Beispiel wie oft die Alben gehört wurden oder zu welchem Genre sie gehören. Jedoch konnte keines der angeführten Modelle die Skip Rate zuverlässig vorhersagen.\n",
    "\n",
    "Es ist daher davon auszugehen, dass die Skip Rate eines Albums nicht von allgemeinen Faktoren der Alben abhängt, sondern zum Beispiel mit individuellen Faktoren der Nutzer zusammenhängt. Zum Beispiel das Land, in dem Nutzer ein Album hören, da die Regressionskoeffizienten der Länder innerhalb der multifaktoriellen Regression tendenziell die höchsten Ladungen aufwiesen.  \n",
    "\n",
    "# 6. Weitere Forschung\n",
    "\n",
    "Weiterführende Forschungsansätze könnten davon profitieren, Daten auf einer detailreicheren Ebene zu verwenden. Zum Beispiel könnte die Skip Rate zwischen mehreren Songs desselben Albums variieren oder jeder Nutzer ein eigenes Überspringverhalten haben. Daten, die Analysen auf solchen Ebenen ermöglichen, haben das Potenzial, aufschlussreiche Ergebnisse zu erzielen.  \n",
    "\n",
    "Diese Arbeit versuchte einen explorativen \"Rundumschlag\" durchzuführen, welcher nicht geglückt ist, jedoch wertvolle Erfahrungen mit der Verwendung von statistischen Verfahren bot. Daher wäre eine Prüfung spezifischerer Fragestellungen ratsam. So zum Beispiel werden in gewissen Ländern gewisse Genres von Musik präferiert.\n",
    "\n",
    "Abschließend könnte die selbe Forschungsfrage neu bearbeitet werden mit einer selektiveren Wahl von Variablen und Eliminierung Redundaten Information, wie zum Beispiel Künstler und ihre Alben, solange im Datensatz nicht mehrere Alben des selben Künstlers existieren.  "
   ]
  },
  {
   "cell_type": "markdown",
   "id": "1edeb2a9",
   "metadata": {},
   "source": [
    "# Literaturverzeichnis\n",
    "\n",
    "[1] W. A. Hemmerich, „Einstieg in die Hauptkomponentenanalyse | StatistikGuru.de“. Zugegriffen: 5. Juni 2025. [Online]. Verfügbar unter: https://statistikguru.de/spss/hauptkomponentenanalyse/einstieg-2.html\n",
    "\n",
    "[2] B. E. Schlegel, „Multiple Lineare Regression | springerprofessional.de“, in Sozialwissenschaftliche Datenanalyse, Springer Fachmedien Wiesbaden, 2025. Zugegriffen: 5. Juni 2025. [Online]. Verfügbar unter: https://link.springer.com/chapter/10.1007/978-3-658-47201-6_11\n",
    "\n",
    "[3] „Spotify – Webplayer: Musik für alle“, Spotify. Zugegriffen: 5. Juni 2025. [Online]. Verfügbar unter: https://open.spotify.com/intl-de\n"
   ]
  }
 ],
 "metadata": {
  "kernelspec": {
   "display_name": ".venv",
   "language": "python",
   "name": "python3"
  },
  "language_info": {
   "codemirror_mode": {
    "name": "ipython",
    "version": 3
   },
   "file_extension": ".py",
   "mimetype": "text/x-python",
   "name": "python",
   "nbconvert_exporter": "python",
   "pygments_lexer": "ipython3",
   "version": "3.10.11"
  }
 },
 "nbformat": 4,
 "nbformat_minor": 5
}
